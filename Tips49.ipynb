{
 "cells": [
  {
   "cell_type": "code",
   "execution_count": 1,
   "id": "782b6fa3-ff79-46b8-bf84-fd8e0cc8e0ef",
   "metadata": {},
   "outputs": [],
   "source": [
    "import pandas as pd\n",
    "df = pd.read_csv('http://bit.ly/kaggletrain')"
   ]
  },
  {
   "cell_type": "code",
   "execution_count": 2,
   "id": "4c4567e6-eafb-43da-8d60-15e72240d72e",
   "metadata": {},
   "outputs": [],
   "source": [
    "cols = ['Sex', 'Name', 'Age']\n",
    "X = df[cols]\n",
    "y = df['Survived']"
   ]
  },
  {
   "cell_type": "code",
   "execution_count": 3,
   "id": "caf2b7a1-fab3-4ac5-818f-08bb9419216a",
   "metadata": {},
   "outputs": [],
   "source": [
    "from sklearn.preprocessing import OneHotEncoder\n",
    "from sklearn.feature_extraction.text import CountVectorizer\n",
    "from sklearn.impute import SimpleImputer\n",
    "from sklearn.compose import ColumnTransformer\n",
    "from sklearn.linear_model import LogisticRegression\n",
    "from sklearn.ensemble import RandomForestClassifier\n",
    "from sklearn.pipeline import Pipeline\n",
    "from sklearn.model_selection import GridSearchCV"
   ]
  },
  {
   "cell_type": "code",
   "execution_count": 4,
   "id": "2b649de6-41b4-4134-aa41-7c59dd05ca32",
   "metadata": {},
   "outputs": [],
   "source": [
    "# this will be the first Pipeline step\n",
    "ct = ColumnTransformer(\n",
    "    [('ohe', OneHotEncoder(), ['Sex']),\n",
    "     ('vectorizer', CountVectorizer(), 'Name'),\n",
    "     ('imputer', SimpleImputer(), ['Age'])])"
   ]
  },
  {
   "cell_type": "code",
   "execution_count": 5,
   "id": "7b369ad7-bb58-4624-bd80-7c9c1bf87a03",
   "metadata": {},
   "outputs": [],
   "source": [
    "# each of these models will take a turn as the second Pipeline step\n",
    "clf1 = LogisticRegression(solver='liblinear', random_state=1)\n",
    "clf2 = RandomForestClassifier(random_state=1)"
   ]
  },
  {
   "cell_type": "code",
   "execution_count": 6,
   "id": "31fb7ce3-af2f-4c43-803d-dce66f4a2592",
   "metadata": {},
   "outputs": [],
   "source": [
    "# create the Pipeline\n",
    "pipe = Pipeline([('preprocessor', ct), ('classifier', clf1)])"
   ]
  },
  {
   "cell_type": "code",
   "execution_count": 7,
   "id": "67329f64-0eee-4b17-9286-0b089e60074b",
   "metadata": {},
   "outputs": [],
   "source": [
    "# create the parameter dictionary for clf1\n",
    "params1 = {}\n",
    "params1['preprocessor__vectorizer__ngram_range'] = [(1, 1), (1, 2)]\n",
    "params1['classifier__penalty'] = ['l1', 'l2']\n",
    "params1['classifier__C'] = [0.1, 1, 10]\n",
    "params1['classifier'] = [clf1]"
   ]
  },
  {
   "cell_type": "code",
   "execution_count": 8,
   "id": "1879cb7f-e7ac-4880-89be-b79001de30d9",
   "metadata": {},
   "outputs": [],
   "source": [
    "# create the parameter dictionary for clf2\n",
    "params2 = {}\n",
    "params2['preprocessor__vectorizer__ngram_range'] = [(1, 1), (1, 2)]\n",
    "params2['classifier__n_estimators'] = [100, 200]\n",
    "params2['classifier__min_samples_leaf'] = [1, 2]\n",
    "params2['classifier'] = [clf2]"
   ]
  },
  {
   "cell_type": "code",
   "execution_count": 9,
   "id": "e43ffd2a-8fdb-4ecf-b14f-4e84a6d57379",
   "metadata": {},
   "outputs": [],
   "source": [
    "# create a list of parameter dictionaries\n",
    "params = [params1, params2]"
   ]
  },
  {
   "cell_type": "code",
   "execution_count": 10,
   "id": "cf5124ba-c90b-4698-9526-04b381d55672",
   "metadata": {},
   "outputs": [
    {
     "data": {
      "text/plain": [
       "{'classifier': LogisticRegression(C=10, penalty='l1', random_state=1, solver='liblinear'),\n",
       " 'classifier__C': 10,\n",
       " 'classifier__penalty': 'l1',\n",
       " 'preprocessor__vectorizer__ngram_range': (1, 2)}"
      ]
     },
     "execution_count": 10,
     "metadata": {},
     "output_type": "execute_result"
    }
   ],
   "source": [
    "# this will search every parameter combination within each dictionary\n",
    "grid = GridSearchCV(pipe, params)\n",
    "grid.fit(X, y)\n",
    "grid.best_params_"
   ]
  }
 ],
 "metadata": {
  "kernelspec": {
   "display_name": "Python 3 (ipykernel)",
   "language": "python",
   "name": "python3"
  },
  "language_info": {
   "codemirror_mode": {
    "name": "ipython",
    "version": 3
   },
   "file_extension": ".py",
   "mimetype": "text/x-python",
   "name": "python",
   "nbconvert_exporter": "python",
   "pygments_lexer": "ipython3",
   "version": "3.10.2"
  }
 },
 "nbformat": 4,
 "nbformat_minor": 5
}
