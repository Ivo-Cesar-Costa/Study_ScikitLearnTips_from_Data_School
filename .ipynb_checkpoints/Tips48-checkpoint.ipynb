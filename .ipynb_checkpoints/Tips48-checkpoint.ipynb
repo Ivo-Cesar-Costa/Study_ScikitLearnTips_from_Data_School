{
 "cells": [
  {
   "cell_type": "code",
   "execution_count": 1,
   "id": "6547c486-1b16-41e9-a7e2-25d6c658b822",
   "metadata": {},
   "outputs": [],
   "source": [
    "import pandas as pd\n",
    "df = pd.read_csv('http://bit.ly/kaggletrain')"
   ]
  },
  {
   "cell_type": "code",
   "execution_count": 2,
   "id": "ff642ddc-81fa-4f74-baf6-e11ca1b4fe3f",
   "metadata": {},
   "outputs": [],
   "source": [
    "cols = ['Sex', 'Name', 'Age']\n",
    "X = df[cols]\n",
    "y = df['Survived']"
   ]
  },
  {
   "cell_type": "code",
   "execution_count": 3,
   "id": "96ffe796-bfb8-423b-a3c6-6fff14f0a458",
   "metadata": {},
   "outputs": [],
   "source": [
    "from sklearn import set_config\n",
    "set_config(display='diagram')"
   ]
  },
  {
   "cell_type": "code",
   "execution_count": 4,
   "id": "6f6a00e4-24e3-4aae-87f7-b98a93846460",
   "metadata": {},
   "outputs": [],
   "source": [
    "from sklearn.preprocessing import OneHotEncoder\n",
    "from sklearn.feature_extraction.text import CountVectorizer\n",
    "from sklearn.impute import SimpleImputer\n",
    "from sklearn.feature_selection import SelectPercentile, chi2\n",
    "from sklearn.linear_model import LogisticRegression\n",
    "from sklearn.compose import ColumnTransformer\n",
    "from sklearn.pipeline import Pipeline"
   ]
  },
  {
   "cell_type": "code",
   "execution_count": 5,
   "id": "23539a7a-579b-4654-b699-7b0ee2fce88f",
   "metadata": {},
   "outputs": [],
   "source": [
    "ct = ColumnTransformer(\n",
    "    [('ohe', OneHotEncoder(), ['Sex']),\n",
    "     ('vectorizer', CountVectorizer(), 'Name'),\n",
    "     ('imputer', SimpleImputer(), ['Age'])])"
   ]
  },
  {
   "cell_type": "code",
   "execution_count": 6,
   "id": "0907be7a-c501-4cb7-a63d-851244a335d2",
   "metadata": {},
   "outputs": [],
   "source": [
    "fs = SelectPercentile(chi2, percentile=50)"
   ]
  },
  {
   "cell_type": "code",
   "execution_count": 7,
   "id": "b99b916f-f8e9-49fa-928b-ec7edc4fef1c",
   "metadata": {},
   "outputs": [],
   "source": [
    "clf = LogisticRegression(solver='liblinear', random_state=1)"
   ]
  },
  {
   "cell_type": "code",
   "execution_count": 8,
   "id": "0d1ae8d8-9c7d-42f0-800a-e224468d3bf9",
   "metadata": {},
   "outputs": [
    {
     "data": {
      "text/html": [
       "<style>#sk-06cb6462-f9c0-4572-8059-ae42e9cac086 {color: black;background-color: white;}#sk-06cb6462-f9c0-4572-8059-ae42e9cac086 pre{padding: 0;}#sk-06cb6462-f9c0-4572-8059-ae42e9cac086 div.sk-toggleable {background-color: white;}#sk-06cb6462-f9c0-4572-8059-ae42e9cac086 label.sk-toggleable__label {cursor: pointer;display: block;width: 100%;margin-bottom: 0;padding: 0.3em;box-sizing: border-box;text-align: center;}#sk-06cb6462-f9c0-4572-8059-ae42e9cac086 label.sk-toggleable__label-arrow:before {content: \"▸\";float: left;margin-right: 0.25em;color: #696969;}#sk-06cb6462-f9c0-4572-8059-ae42e9cac086 label.sk-toggleable__label-arrow:hover:before {color: black;}#sk-06cb6462-f9c0-4572-8059-ae42e9cac086 div.sk-estimator:hover label.sk-toggleable__label-arrow:before {color: black;}#sk-06cb6462-f9c0-4572-8059-ae42e9cac086 div.sk-toggleable__content {max-height: 0;max-width: 0;overflow: hidden;text-align: left;background-color: #f0f8ff;}#sk-06cb6462-f9c0-4572-8059-ae42e9cac086 div.sk-toggleable__content pre {margin: 0.2em;color: black;border-radius: 0.25em;background-color: #f0f8ff;}#sk-06cb6462-f9c0-4572-8059-ae42e9cac086 input.sk-toggleable__control:checked~div.sk-toggleable__content {max-height: 200px;max-width: 100%;overflow: auto;}#sk-06cb6462-f9c0-4572-8059-ae42e9cac086 input.sk-toggleable__control:checked~label.sk-toggleable__label-arrow:before {content: \"▾\";}#sk-06cb6462-f9c0-4572-8059-ae42e9cac086 div.sk-estimator input.sk-toggleable__control:checked~label.sk-toggleable__label {background-color: #d4ebff;}#sk-06cb6462-f9c0-4572-8059-ae42e9cac086 div.sk-label input.sk-toggleable__control:checked~label.sk-toggleable__label {background-color: #d4ebff;}#sk-06cb6462-f9c0-4572-8059-ae42e9cac086 input.sk-hidden--visually {border: 0;clip: rect(1px 1px 1px 1px);clip: rect(1px, 1px, 1px, 1px);height: 1px;margin: -1px;overflow: hidden;padding: 0;position: absolute;width: 1px;}#sk-06cb6462-f9c0-4572-8059-ae42e9cac086 div.sk-estimator {font-family: monospace;background-color: #f0f8ff;border: 1px dotted black;border-radius: 0.25em;box-sizing: border-box;margin-bottom: 0.5em;}#sk-06cb6462-f9c0-4572-8059-ae42e9cac086 div.sk-estimator:hover {background-color: #d4ebff;}#sk-06cb6462-f9c0-4572-8059-ae42e9cac086 div.sk-parallel-item::after {content: \"\";width: 100%;border-bottom: 1px solid gray;flex-grow: 1;}#sk-06cb6462-f9c0-4572-8059-ae42e9cac086 div.sk-label:hover label.sk-toggleable__label {background-color: #d4ebff;}#sk-06cb6462-f9c0-4572-8059-ae42e9cac086 div.sk-serial::before {content: \"\";position: absolute;border-left: 1px solid gray;box-sizing: border-box;top: 2em;bottom: 0;left: 50%;}#sk-06cb6462-f9c0-4572-8059-ae42e9cac086 div.sk-serial {display: flex;flex-direction: column;align-items: center;background-color: white;padding-right: 0.2em;padding-left: 0.2em;}#sk-06cb6462-f9c0-4572-8059-ae42e9cac086 div.sk-item {z-index: 1;}#sk-06cb6462-f9c0-4572-8059-ae42e9cac086 div.sk-parallel {display: flex;align-items: stretch;justify-content: center;background-color: white;}#sk-06cb6462-f9c0-4572-8059-ae42e9cac086 div.sk-parallel::before {content: \"\";position: absolute;border-left: 1px solid gray;box-sizing: border-box;top: 2em;bottom: 0;left: 50%;}#sk-06cb6462-f9c0-4572-8059-ae42e9cac086 div.sk-parallel-item {display: flex;flex-direction: column;position: relative;background-color: white;}#sk-06cb6462-f9c0-4572-8059-ae42e9cac086 div.sk-parallel-item:first-child::after {align-self: flex-end;width: 50%;}#sk-06cb6462-f9c0-4572-8059-ae42e9cac086 div.sk-parallel-item:last-child::after {align-self: flex-start;width: 50%;}#sk-06cb6462-f9c0-4572-8059-ae42e9cac086 div.sk-parallel-item:only-child::after {width: 0;}#sk-06cb6462-f9c0-4572-8059-ae42e9cac086 div.sk-dashed-wrapped {border: 1px dashed gray;margin: 0 0.4em 0.5em 0.4em;box-sizing: border-box;padding-bottom: 0.4em;background-color: white;position: relative;}#sk-06cb6462-f9c0-4572-8059-ae42e9cac086 div.sk-label label {font-family: monospace;font-weight: bold;background-color: white;display: inline-block;line-height: 1.2em;}#sk-06cb6462-f9c0-4572-8059-ae42e9cac086 div.sk-label-container {position: relative;z-index: 2;text-align: center;}#sk-06cb6462-f9c0-4572-8059-ae42e9cac086 div.sk-container {/* jupyter's `normalize.less` sets `[hidden] { display: none; }` but bootstrap.min.css set `[hidden] { display: none !important; }` so we also need the `!important` here to be able to override the default hidden behavior on the sphinx rendered scikit-learn.org. See: https://github.com/scikit-learn/scikit-learn/issues/21755 */display: inline-block !important;position: relative;}#sk-06cb6462-f9c0-4572-8059-ae42e9cac086 div.sk-text-repr-fallback {display: none;}</style><div id=\"sk-06cb6462-f9c0-4572-8059-ae42e9cac086\" class=\"sk-top-container\"><div class=\"sk-text-repr-fallback\"><pre>Pipeline(steps=[(&#x27;preprocessor&#x27;,\n",
       "                 ColumnTransformer(transformers=[(&#x27;ohe&#x27;, OneHotEncoder(),\n",
       "                                                  [&#x27;Sex&#x27;]),\n",
       "                                                 (&#x27;vectorizer&#x27;,\n",
       "                                                  CountVectorizer(), &#x27;Name&#x27;),\n",
       "                                                 (&#x27;imputer&#x27;, SimpleImputer(),\n",
       "                                                  [&#x27;Age&#x27;])])),\n",
       "                (&#x27;feature selector&#x27;,\n",
       "                 SelectPercentile(percentile=50,\n",
       "                                  score_func=&lt;function chi2 at 0x00000156CF7C6B90&gt;)),\n",
       "                (&#x27;classifier&#x27;,\n",
       "                 LogisticRegression(random_state=1, solver=&#x27;liblinear&#x27;))])</pre><b>Please rerun this cell to show the HTML repr or trust the notebook.</b></div><div class=\"sk-container\" hidden><div class=\"sk-item sk-dashed-wrapped\"><div class=\"sk-label-container\"><div class=\"sk-label sk-toggleable\"><input class=\"sk-toggleable__control sk-hidden--visually\" id=\"59f7a927-1606-45c7-8e10-bfb1af7b697b\" type=\"checkbox\" ><label for=\"59f7a927-1606-45c7-8e10-bfb1af7b697b\" class=\"sk-toggleable__label sk-toggleable__label-arrow\">Pipeline</label><div class=\"sk-toggleable__content\"><pre>Pipeline(steps=[(&#x27;preprocessor&#x27;,\n",
       "                 ColumnTransformer(transformers=[(&#x27;ohe&#x27;, OneHotEncoder(),\n",
       "                                                  [&#x27;Sex&#x27;]),\n",
       "                                                 (&#x27;vectorizer&#x27;,\n",
       "                                                  CountVectorizer(), &#x27;Name&#x27;),\n",
       "                                                 (&#x27;imputer&#x27;, SimpleImputer(),\n",
       "                                                  [&#x27;Age&#x27;])])),\n",
       "                (&#x27;feature selector&#x27;,\n",
       "                 SelectPercentile(percentile=50,\n",
       "                                  score_func=&lt;function chi2 at 0x00000156CF7C6B90&gt;)),\n",
       "                (&#x27;classifier&#x27;,\n",
       "                 LogisticRegression(random_state=1, solver=&#x27;liblinear&#x27;))])</pre></div></div></div><div class=\"sk-serial\"><div class=\"sk-item sk-dashed-wrapped\"><div class=\"sk-label-container\"><div class=\"sk-label sk-toggleable\"><input class=\"sk-toggleable__control sk-hidden--visually\" id=\"0bc9dc94-d291-4690-96da-5be180176cd6\" type=\"checkbox\" ><label for=\"0bc9dc94-d291-4690-96da-5be180176cd6\" class=\"sk-toggleable__label sk-toggleable__label-arrow\">preprocessor: ColumnTransformer</label><div class=\"sk-toggleable__content\"><pre>ColumnTransformer(transformers=[(&#x27;ohe&#x27;, OneHotEncoder(), [&#x27;Sex&#x27;]),\n",
       "                                (&#x27;vectorizer&#x27;, CountVectorizer(), &#x27;Name&#x27;),\n",
       "                                (&#x27;imputer&#x27;, SimpleImputer(), [&#x27;Age&#x27;])])</pre></div></div></div><div class=\"sk-parallel\"><div class=\"sk-parallel-item\"><div class=\"sk-item\"><div class=\"sk-label-container\"><div class=\"sk-label sk-toggleable\"><input class=\"sk-toggleable__control sk-hidden--visually\" id=\"edb838e9-a2f2-48d1-8981-a63c44d71b68\" type=\"checkbox\" ><label for=\"edb838e9-a2f2-48d1-8981-a63c44d71b68\" class=\"sk-toggleable__label sk-toggleable__label-arrow\">ohe</label><div class=\"sk-toggleable__content\"><pre>[&#x27;Sex&#x27;]</pre></div></div></div><div class=\"sk-serial\"><div class=\"sk-item\"><div class=\"sk-estimator sk-toggleable\"><input class=\"sk-toggleable__control sk-hidden--visually\" id=\"00d4a411-0c81-4de5-8523-0f49d9b98ed5\" type=\"checkbox\" ><label for=\"00d4a411-0c81-4de5-8523-0f49d9b98ed5\" class=\"sk-toggleable__label sk-toggleable__label-arrow\">OneHotEncoder</label><div class=\"sk-toggleable__content\"><pre>OneHotEncoder()</pre></div></div></div></div></div></div><div class=\"sk-parallel-item\"><div class=\"sk-item\"><div class=\"sk-label-container\"><div class=\"sk-label sk-toggleable\"><input class=\"sk-toggleable__control sk-hidden--visually\" id=\"7f6850e9-51f3-41c8-bfa3-eb5a86ab6884\" type=\"checkbox\" ><label for=\"7f6850e9-51f3-41c8-bfa3-eb5a86ab6884\" class=\"sk-toggleable__label sk-toggleable__label-arrow\">vectorizer</label><div class=\"sk-toggleable__content\"><pre>Name</pre></div></div></div><div class=\"sk-serial\"><div class=\"sk-item\"><div class=\"sk-estimator sk-toggleable\"><input class=\"sk-toggleable__control sk-hidden--visually\" id=\"8b47e8aa-240f-4b62-8bfe-1c8dfb2e67e1\" type=\"checkbox\" ><label for=\"8b47e8aa-240f-4b62-8bfe-1c8dfb2e67e1\" class=\"sk-toggleable__label sk-toggleable__label-arrow\">CountVectorizer</label><div class=\"sk-toggleable__content\"><pre>CountVectorizer()</pre></div></div></div></div></div></div><div class=\"sk-parallel-item\"><div class=\"sk-item\"><div class=\"sk-label-container\"><div class=\"sk-label sk-toggleable\"><input class=\"sk-toggleable__control sk-hidden--visually\" id=\"29b38c1e-2f75-4dcb-9162-661d2e72ecab\" type=\"checkbox\" ><label for=\"29b38c1e-2f75-4dcb-9162-661d2e72ecab\" class=\"sk-toggleable__label sk-toggleable__label-arrow\">imputer</label><div class=\"sk-toggleable__content\"><pre>[&#x27;Age&#x27;]</pre></div></div></div><div class=\"sk-serial\"><div class=\"sk-item\"><div class=\"sk-estimator sk-toggleable\"><input class=\"sk-toggleable__control sk-hidden--visually\" id=\"838dc969-8e32-4a50-a23c-3abf87fc0eae\" type=\"checkbox\" ><label for=\"838dc969-8e32-4a50-a23c-3abf87fc0eae\" class=\"sk-toggleable__label sk-toggleable__label-arrow\">SimpleImputer</label><div class=\"sk-toggleable__content\"><pre>SimpleImputer()</pre></div></div></div></div></div></div></div></div><div class=\"sk-item\"><div class=\"sk-estimator sk-toggleable\"><input class=\"sk-toggleable__control sk-hidden--visually\" id=\"4a62cbf7-b164-4f5d-88c0-4d393db1d200\" type=\"checkbox\" ><label for=\"4a62cbf7-b164-4f5d-88c0-4d393db1d200\" class=\"sk-toggleable__label sk-toggleable__label-arrow\">SelectPercentile</label><div class=\"sk-toggleable__content\"><pre>SelectPercentile(percentile=50,\n",
       "                 score_func=&lt;function chi2 at 0x00000156CF7C6B90&gt;)</pre></div></div></div><div class=\"sk-item\"><div class=\"sk-estimator sk-toggleable\"><input class=\"sk-toggleable__control sk-hidden--visually\" id=\"55017d97-43c6-4710-b197-3945e8fd2147\" type=\"checkbox\" ><label for=\"55017d97-43c6-4710-b197-3945e8fd2147\" class=\"sk-toggleable__label sk-toggleable__label-arrow\">LogisticRegression</label><div class=\"sk-toggleable__content\"><pre>LogisticRegression(random_state=1, solver=&#x27;liblinear&#x27;)</pre></div></div></div></div></div></div></div>"
      ],
      "text/plain": [
       "Pipeline(steps=[('preprocessor',\n",
       "                 ColumnTransformer(transformers=[('ohe', OneHotEncoder(),\n",
       "                                                  ['Sex']),\n",
       "                                                 ('vectorizer',\n",
       "                                                  CountVectorizer(), 'Name'),\n",
       "                                                 ('imputer', SimpleImputer(),\n",
       "                                                  ['Age'])])),\n",
       "                ('feature selector',\n",
       "                 SelectPercentile(percentile=50,\n",
       "                                  score_func=<function chi2 at 0x00000156CF7C6B90>)),\n",
       "                ('classifier',\n",
       "                 LogisticRegression(random_state=1, solver='liblinear'))])"
      ]
     },
     "execution_count": 8,
     "metadata": {},
     "output_type": "execute_result"
    }
   ],
   "source": [
    "# create Pipeline\n",
    "pipe = Pipeline([('preprocessor', ct), ('feature selector', fs), ('classifier', clf)])\n",
    "pipe"
   ]
  },
  {
   "cell_type": "code",
   "execution_count": 9,
   "id": "bbdf66c9-b3f7-42d5-a5be-e37a2a664b37",
   "metadata": {},
   "outputs": [
    {
     "data": {
      "text/plain": [
       "<891x1512 sparse matrix of type '<class 'numpy.float64'>'\n",
       "\twith 5348 stored elements in Compressed Sparse Row format>"
      ]
     },
     "execution_count": 9,
     "metadata": {},
     "output_type": "execute_result"
    }
   ],
   "source": [
    "# access step 0 (preprocessor)\n",
    "pipe[0].fit_transform(X)"
   ]
  },
  {
   "cell_type": "code",
   "execution_count": 10,
   "id": "f03d52da-3b74-4bc7-a83a-5583df3e57f4",
   "metadata": {},
   "outputs": [
    {
     "data": {
      "text/plain": [
       "<891x756 sparse matrix of type '<class 'numpy.float64'>'\n",
       "\twith 4128 stored elements in Compressed Sparse Row format>"
      ]
     },
     "execution_count": 10,
     "metadata": {},
     "output_type": "execute_result"
    }
   ],
   "source": [
    "# access steps 0 and 1 (preprocessor and feature selector)\n",
    "pipe[0:2].fit_transform(X, y)"
   ]
  },
  {
   "cell_type": "code",
   "execution_count": 11,
   "id": "c6f00d36-2114-43dc-9ee2-3b264aae37d1",
   "metadata": {},
   "outputs": [
    {
     "data": {
      "text/plain": [
       "array([ True,  True,  True, ...,  True, False,  True])"
      ]
     },
     "execution_count": 11,
     "metadata": {},
     "output_type": "execute_result"
    }
   ],
   "source": [
    "# access step 1 (feature selector)\n",
    "pipe[1].get_support()"
   ]
  },
  {
   "cell_type": "code",
   "execution_count": null,
   "id": "e7237753-269f-4b3f-9ffc-be0686e12854",
   "metadata": {},
   "outputs": [],
   "source": []
  }
 ],
 "metadata": {
  "kernelspec": {
   "display_name": "Python 3 (ipykernel)",
   "language": "python",
   "name": "python3"
  },
  "language_info": {
   "codemirror_mode": {
    "name": "ipython",
    "version": 3
   },
   "file_extension": ".py",
   "mimetype": "text/x-python",
   "name": "python",
   "nbconvert_exporter": "python",
   "pygments_lexer": "ipython3",
   "version": "3.10.2"
  }
 },
 "nbformat": 4,
 "nbformat_minor": 5
}
