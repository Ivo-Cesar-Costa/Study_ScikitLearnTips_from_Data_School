{
 "cells": [
  {
   "cell_type": "code",
   "execution_count": 1,
   "id": "6547c486-1b16-41e9-a7e2-25d6c658b822",
   "metadata": {},
   "outputs": [],
   "source": [
    "import pandas as pd\n",
    "df = pd.read_csv('http://bit.ly/kaggletrain')"
   ]
  },
  {
   "cell_type": "code",
   "execution_count": 2,
   "id": "ff642ddc-81fa-4f74-baf6-e11ca1b4fe3f",
   "metadata": {},
   "outputs": [],
   "source": [
    "cols = ['Sex', 'Name', 'Age']\n",
    "X = df[cols]\n",
    "y = df['Survived']"
   ]
  },
  {
   "cell_type": "code",
   "execution_count": 3,
   "id": "96ffe796-bfb8-423b-a3c6-6fff14f0a458",
   "metadata": {},
   "outputs": [],
   "source": [
    "from sklearn import set_config\n",
    "set_config(display='diagram')"
   ]
  },
  {
   "cell_type": "code",
   "execution_count": 4,
   "id": "6f6a00e4-24e3-4aae-87f7-b98a93846460",
   "metadata": {},
   "outputs": [],
   "source": [
    "from sklearn.preprocessing import OneHotEncoder\n",
    "from sklearn.feature_extraction.text import CountVectorizer\n",
    "from sklearn.impute import SimpleImputer\n",
    "from sklearn.feature_selection import SelectPercentile, chi2\n",
    "from sklearn.linear_model import LogisticRegression\n",
    "from sklearn.compose import ColumnTransformer\n",
    "from sklearn.pipeline import Pipeline"
   ]
  },
  {
   "cell_type": "code",
   "execution_count": 5,
   "id": "23539a7a-579b-4654-b699-7b0ee2fce88f",
   "metadata": {},
   "outputs": [],
   "source": [
    "ct = ColumnTransformer(\n",
    "    [('ohe', OneHotEncoder(), ['Sex']),\n",
    "     ('vectorizer', CountVectorizer(), 'Name'),\n",
    "     ('imputer', SimpleImputer(), ['Age'])])"
   ]
  },
  {
   "cell_type": "code",
   "execution_count": 6,
   "id": "0907be7a-c501-4cb7-a63d-851244a335d2",
   "metadata": {},
   "outputs": [],
   "source": [
    "fs = SelectPercentile(chi2, percentile=50)"
   ]
  },
  {
   "cell_type": "code",
   "execution_count": 7,
   "id": "b99b916f-f8e9-49fa-928b-ec7edc4fef1c",
   "metadata": {},
   "outputs": [],
   "source": [
    "clf = LogisticRegression(solver='liblinear', random_state=1)"
   ]
  },
  {
   "cell_type": "code",
   "execution_count": 8,
   "id": "0d1ae8d8-9c7d-42f0-800a-e224468d3bf9",
   "metadata": {},
   "outputs": [
    {
     "data": {
      "text/html": [
       "<style>#sk-b80c4da1-5290-4941-b1cf-c82f5ed167ca {color: black;background-color: white;}#sk-b80c4da1-5290-4941-b1cf-c82f5ed167ca pre{padding: 0;}#sk-b80c4da1-5290-4941-b1cf-c82f5ed167ca div.sk-toggleable {background-color: white;}#sk-b80c4da1-5290-4941-b1cf-c82f5ed167ca label.sk-toggleable__label {cursor: pointer;display: block;width: 100%;margin-bottom: 0;padding: 0.3em;box-sizing: border-box;text-align: center;}#sk-b80c4da1-5290-4941-b1cf-c82f5ed167ca label.sk-toggleable__label-arrow:before {content: \"▸\";float: left;margin-right: 0.25em;color: #696969;}#sk-b80c4da1-5290-4941-b1cf-c82f5ed167ca label.sk-toggleable__label-arrow:hover:before {color: black;}#sk-b80c4da1-5290-4941-b1cf-c82f5ed167ca div.sk-estimator:hover label.sk-toggleable__label-arrow:before {color: black;}#sk-b80c4da1-5290-4941-b1cf-c82f5ed167ca div.sk-toggleable__content {max-height: 0;max-width: 0;overflow: hidden;text-align: left;background-color: #f0f8ff;}#sk-b80c4da1-5290-4941-b1cf-c82f5ed167ca div.sk-toggleable__content pre {margin: 0.2em;color: black;border-radius: 0.25em;background-color: #f0f8ff;}#sk-b80c4da1-5290-4941-b1cf-c82f5ed167ca input.sk-toggleable__control:checked~div.sk-toggleable__content {max-height: 200px;max-width: 100%;overflow: auto;}#sk-b80c4da1-5290-4941-b1cf-c82f5ed167ca input.sk-toggleable__control:checked~label.sk-toggleable__label-arrow:before {content: \"▾\";}#sk-b80c4da1-5290-4941-b1cf-c82f5ed167ca div.sk-estimator input.sk-toggleable__control:checked~label.sk-toggleable__label {background-color: #d4ebff;}#sk-b80c4da1-5290-4941-b1cf-c82f5ed167ca div.sk-label input.sk-toggleable__control:checked~label.sk-toggleable__label {background-color: #d4ebff;}#sk-b80c4da1-5290-4941-b1cf-c82f5ed167ca input.sk-hidden--visually {border: 0;clip: rect(1px 1px 1px 1px);clip: rect(1px, 1px, 1px, 1px);height: 1px;margin: -1px;overflow: hidden;padding: 0;position: absolute;width: 1px;}#sk-b80c4da1-5290-4941-b1cf-c82f5ed167ca div.sk-estimator {font-family: monospace;background-color: #f0f8ff;border: 1px dotted black;border-radius: 0.25em;box-sizing: border-box;margin-bottom: 0.5em;}#sk-b80c4da1-5290-4941-b1cf-c82f5ed167ca div.sk-estimator:hover {background-color: #d4ebff;}#sk-b80c4da1-5290-4941-b1cf-c82f5ed167ca div.sk-parallel-item::after {content: \"\";width: 100%;border-bottom: 1px solid gray;flex-grow: 1;}#sk-b80c4da1-5290-4941-b1cf-c82f5ed167ca div.sk-label:hover label.sk-toggleable__label {background-color: #d4ebff;}#sk-b80c4da1-5290-4941-b1cf-c82f5ed167ca div.sk-serial::before {content: \"\";position: absolute;border-left: 1px solid gray;box-sizing: border-box;top: 2em;bottom: 0;left: 50%;}#sk-b80c4da1-5290-4941-b1cf-c82f5ed167ca div.sk-serial {display: flex;flex-direction: column;align-items: center;background-color: white;padding-right: 0.2em;padding-left: 0.2em;}#sk-b80c4da1-5290-4941-b1cf-c82f5ed167ca div.sk-item {z-index: 1;}#sk-b80c4da1-5290-4941-b1cf-c82f5ed167ca div.sk-parallel {display: flex;align-items: stretch;justify-content: center;background-color: white;}#sk-b80c4da1-5290-4941-b1cf-c82f5ed167ca div.sk-parallel::before {content: \"\";position: absolute;border-left: 1px solid gray;box-sizing: border-box;top: 2em;bottom: 0;left: 50%;}#sk-b80c4da1-5290-4941-b1cf-c82f5ed167ca div.sk-parallel-item {display: flex;flex-direction: column;position: relative;background-color: white;}#sk-b80c4da1-5290-4941-b1cf-c82f5ed167ca div.sk-parallel-item:first-child::after {align-self: flex-end;width: 50%;}#sk-b80c4da1-5290-4941-b1cf-c82f5ed167ca div.sk-parallel-item:last-child::after {align-self: flex-start;width: 50%;}#sk-b80c4da1-5290-4941-b1cf-c82f5ed167ca div.sk-parallel-item:only-child::after {width: 0;}#sk-b80c4da1-5290-4941-b1cf-c82f5ed167ca div.sk-dashed-wrapped {border: 1px dashed gray;margin: 0 0.4em 0.5em 0.4em;box-sizing: border-box;padding-bottom: 0.4em;background-color: white;position: relative;}#sk-b80c4da1-5290-4941-b1cf-c82f5ed167ca div.sk-label label {font-family: monospace;font-weight: bold;background-color: white;display: inline-block;line-height: 1.2em;}#sk-b80c4da1-5290-4941-b1cf-c82f5ed167ca div.sk-label-container {position: relative;z-index: 2;text-align: center;}#sk-b80c4da1-5290-4941-b1cf-c82f5ed167ca div.sk-container {/* jupyter's `normalize.less` sets `[hidden] { display: none; }` but bootstrap.min.css set `[hidden] { display: none !important; }` so we also need the `!important` here to be able to override the default hidden behavior on the sphinx rendered scikit-learn.org. See: https://github.com/scikit-learn/scikit-learn/issues/21755 */display: inline-block !important;position: relative;}#sk-b80c4da1-5290-4941-b1cf-c82f5ed167ca div.sk-text-repr-fallback {display: none;}</style><div id=\"sk-b80c4da1-5290-4941-b1cf-c82f5ed167ca\" class=\"sk-top-container\"><div class=\"sk-text-repr-fallback\"><pre>Pipeline(steps=[(&#x27;preprocessor&#x27;,\n",
       "                 ColumnTransformer(transformers=[(&#x27;ohe&#x27;, OneHotEncoder(),\n",
       "                                                  [&#x27;Sex&#x27;]),\n",
       "                                                 (&#x27;vectorizer&#x27;,\n",
       "                                                  CountVectorizer(), &#x27;Name&#x27;),\n",
       "                                                 (&#x27;imputer&#x27;, SimpleImputer(),\n",
       "                                                  [&#x27;Age&#x27;])])),\n",
       "                (&#x27;feature selector&#x27;,\n",
       "                 SelectPercentile(percentile=50,\n",
       "                                  score_func=&lt;function chi2 at 0x0000020E967D9000&gt;)),\n",
       "                (&#x27;classifier&#x27;,\n",
       "                 LogisticRegression(random_state=1, solver=&#x27;liblinear&#x27;))])</pre><b>Please rerun this cell to show the HTML repr or trust the notebook.</b></div><div class=\"sk-container\" hidden><div class=\"sk-item sk-dashed-wrapped\"><div class=\"sk-label-container\"><div class=\"sk-label sk-toggleable\"><input class=\"sk-toggleable__control sk-hidden--visually\" id=\"275d1df7-cee7-4efd-9a11-678346c1ae5f\" type=\"checkbox\" ><label for=\"275d1df7-cee7-4efd-9a11-678346c1ae5f\" class=\"sk-toggleable__label sk-toggleable__label-arrow\">Pipeline</label><div class=\"sk-toggleable__content\"><pre>Pipeline(steps=[(&#x27;preprocessor&#x27;,\n",
       "                 ColumnTransformer(transformers=[(&#x27;ohe&#x27;, OneHotEncoder(),\n",
       "                                                  [&#x27;Sex&#x27;]),\n",
       "                                                 (&#x27;vectorizer&#x27;,\n",
       "                                                  CountVectorizer(), &#x27;Name&#x27;),\n",
       "                                                 (&#x27;imputer&#x27;, SimpleImputer(),\n",
       "                                                  [&#x27;Age&#x27;])])),\n",
       "                (&#x27;feature selector&#x27;,\n",
       "                 SelectPercentile(percentile=50,\n",
       "                                  score_func=&lt;function chi2 at 0x0000020E967D9000&gt;)),\n",
       "                (&#x27;classifier&#x27;,\n",
       "                 LogisticRegression(random_state=1, solver=&#x27;liblinear&#x27;))])</pre></div></div></div><div class=\"sk-serial\"><div class=\"sk-item sk-dashed-wrapped\"><div class=\"sk-label-container\"><div class=\"sk-label sk-toggleable\"><input class=\"sk-toggleable__control sk-hidden--visually\" id=\"1d6b7493-2e46-45f5-ad5a-65e48eb6179a\" type=\"checkbox\" ><label for=\"1d6b7493-2e46-45f5-ad5a-65e48eb6179a\" class=\"sk-toggleable__label sk-toggleable__label-arrow\">preprocessor: ColumnTransformer</label><div class=\"sk-toggleable__content\"><pre>ColumnTransformer(transformers=[(&#x27;ohe&#x27;, OneHotEncoder(), [&#x27;Sex&#x27;]),\n",
       "                                (&#x27;vectorizer&#x27;, CountVectorizer(), &#x27;Name&#x27;),\n",
       "                                (&#x27;imputer&#x27;, SimpleImputer(), [&#x27;Age&#x27;])])</pre></div></div></div><div class=\"sk-parallel\"><div class=\"sk-parallel-item\"><div class=\"sk-item\"><div class=\"sk-label-container\"><div class=\"sk-label sk-toggleable\"><input class=\"sk-toggleable__control sk-hidden--visually\" id=\"75bb3806-fd90-4cfa-ba02-bb9618b88858\" type=\"checkbox\" ><label for=\"75bb3806-fd90-4cfa-ba02-bb9618b88858\" class=\"sk-toggleable__label sk-toggleable__label-arrow\">ohe</label><div class=\"sk-toggleable__content\"><pre>[&#x27;Sex&#x27;]</pre></div></div></div><div class=\"sk-serial\"><div class=\"sk-item\"><div class=\"sk-estimator sk-toggleable\"><input class=\"sk-toggleable__control sk-hidden--visually\" id=\"5d2cbf31-6b4f-46a2-80cb-2860236e70f5\" type=\"checkbox\" ><label for=\"5d2cbf31-6b4f-46a2-80cb-2860236e70f5\" class=\"sk-toggleable__label sk-toggleable__label-arrow\">OneHotEncoder</label><div class=\"sk-toggleable__content\"><pre>OneHotEncoder()</pre></div></div></div></div></div></div><div class=\"sk-parallel-item\"><div class=\"sk-item\"><div class=\"sk-label-container\"><div class=\"sk-label sk-toggleable\"><input class=\"sk-toggleable__control sk-hidden--visually\" id=\"a011d0d8-e3ba-4489-b353-08b543da15c9\" type=\"checkbox\" ><label for=\"a011d0d8-e3ba-4489-b353-08b543da15c9\" class=\"sk-toggleable__label sk-toggleable__label-arrow\">vectorizer</label><div class=\"sk-toggleable__content\"><pre>Name</pre></div></div></div><div class=\"sk-serial\"><div class=\"sk-item\"><div class=\"sk-estimator sk-toggleable\"><input class=\"sk-toggleable__control sk-hidden--visually\" id=\"ffc83905-1091-4810-9877-f3b742374c8c\" type=\"checkbox\" ><label for=\"ffc83905-1091-4810-9877-f3b742374c8c\" class=\"sk-toggleable__label sk-toggleable__label-arrow\">CountVectorizer</label><div class=\"sk-toggleable__content\"><pre>CountVectorizer()</pre></div></div></div></div></div></div><div class=\"sk-parallel-item\"><div class=\"sk-item\"><div class=\"sk-label-container\"><div class=\"sk-label sk-toggleable\"><input class=\"sk-toggleable__control sk-hidden--visually\" id=\"df8d6d04-fb82-4e0f-8d13-6b31f95d5f29\" type=\"checkbox\" ><label for=\"df8d6d04-fb82-4e0f-8d13-6b31f95d5f29\" class=\"sk-toggleable__label sk-toggleable__label-arrow\">imputer</label><div class=\"sk-toggleable__content\"><pre>[&#x27;Age&#x27;]</pre></div></div></div><div class=\"sk-serial\"><div class=\"sk-item\"><div class=\"sk-estimator sk-toggleable\"><input class=\"sk-toggleable__control sk-hidden--visually\" id=\"34a5e0cc-ea6a-4849-91ea-5732bf91cb88\" type=\"checkbox\" ><label for=\"34a5e0cc-ea6a-4849-91ea-5732bf91cb88\" class=\"sk-toggleable__label sk-toggleable__label-arrow\">SimpleImputer</label><div class=\"sk-toggleable__content\"><pre>SimpleImputer()</pre></div></div></div></div></div></div></div></div><div class=\"sk-item\"><div class=\"sk-estimator sk-toggleable\"><input class=\"sk-toggleable__control sk-hidden--visually\" id=\"8fb2779e-3206-4ee7-adb9-8519adf63edf\" type=\"checkbox\" ><label for=\"8fb2779e-3206-4ee7-adb9-8519adf63edf\" class=\"sk-toggleable__label sk-toggleable__label-arrow\">SelectPercentile</label><div class=\"sk-toggleable__content\"><pre>SelectPercentile(percentile=50,\n",
       "                 score_func=&lt;function chi2 at 0x0000020E967D9000&gt;)</pre></div></div></div><div class=\"sk-item\"><div class=\"sk-estimator sk-toggleable\"><input class=\"sk-toggleable__control sk-hidden--visually\" id=\"e8011f2a-32b1-444b-9bec-ff55d93cea9d\" type=\"checkbox\" ><label for=\"e8011f2a-32b1-444b-9bec-ff55d93cea9d\" class=\"sk-toggleable__label sk-toggleable__label-arrow\">LogisticRegression</label><div class=\"sk-toggleable__content\"><pre>LogisticRegression(random_state=1, solver=&#x27;liblinear&#x27;)</pre></div></div></div></div></div></div></div>"
      ],
      "text/plain": [
       "Pipeline(steps=[('preprocessor',\n",
       "                 ColumnTransformer(transformers=[('ohe', OneHotEncoder(),\n",
       "                                                  ['Sex']),\n",
       "                                                 ('vectorizer',\n",
       "                                                  CountVectorizer(), 'Name'),\n",
       "                                                 ('imputer', SimpleImputer(),\n",
       "                                                  ['Age'])])),\n",
       "                ('feature selector',\n",
       "                 SelectPercentile(percentile=50,\n",
       "                                  score_func=<function chi2 at 0x0000020E967D9000>)),\n",
       "                ('classifier',\n",
       "                 LogisticRegression(random_state=1, solver='liblinear'))])"
      ]
     },
     "execution_count": 8,
     "metadata": {},
     "output_type": "execute_result"
    }
   ],
   "source": [
    "# create Pipeline\n",
    "pipe = Pipeline([('preprocessor', ct), ('feature selector', fs), ('classifier', clf)])\n",
    "pipe"
   ]
  },
  {
   "cell_type": "code",
   "execution_count": 9,
   "id": "bbdf66c9-b3f7-42d5-a5be-e37a2a664b37",
   "metadata": {},
   "outputs": [
    {
     "data": {
      "text/plain": [
       "<891x1512 sparse matrix of type '<class 'numpy.float64'>'\n",
       "\twith 5348 stored elements in Compressed Sparse Row format>"
      ]
     },
     "execution_count": 9,
     "metadata": {},
     "output_type": "execute_result"
    }
   ],
   "source": [
    "# access step 0 (preprocessor)\n",
    "pipe[0].fit_transform(X)"
   ]
  },
  {
   "cell_type": "code",
   "execution_count": 10,
   "id": "f03d52da-3b74-4bc7-a83a-5583df3e57f4",
   "metadata": {},
   "outputs": [
    {
     "data": {
      "text/plain": [
       "<891x756 sparse matrix of type '<class 'numpy.float64'>'\n",
       "\twith 4128 stored elements in Compressed Sparse Row format>"
      ]
     },
     "execution_count": 10,
     "metadata": {},
     "output_type": "execute_result"
    }
   ],
   "source": [
    "# access steps 0 and 1 (preprocessor and feature selector)\n",
    "pipe[0:2].fit_transform(X, y)"
   ]
  },
  {
   "cell_type": "code",
   "execution_count": 11,
   "id": "c6f00d36-2114-43dc-9ee2-3b264aae37d1",
   "metadata": {},
   "outputs": [
    {
     "data": {
      "text/plain": [
       "array([ True,  True,  True, ...,  True, False,  True])"
      ]
     },
     "execution_count": 11,
     "metadata": {},
     "output_type": "execute_result"
    }
   ],
   "source": [
    "# access step 1 (feature selector)\n",
    "pipe[1].get_support()"
   ]
  }
 ],
 "metadata": {
  "kernelspec": {
   "display_name": "Python 3 (ipykernel)",
   "language": "python",
   "name": "python3"
  },
  "language_info": {
   "codemirror_mode": {
    "name": "ipython",
    "version": 3
   },
   "file_extension": ".py",
   "mimetype": "text/x-python",
   "name": "python",
   "nbconvert_exporter": "python",
   "pygments_lexer": "ipython3",
   "version": "3.10.2"
  }
 },
 "nbformat": 4,
 "nbformat_minor": 5
}
