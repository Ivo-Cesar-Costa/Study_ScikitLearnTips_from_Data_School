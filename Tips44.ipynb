{
 "cells": [
  {
   "cell_type": "code",
   "execution_count": 1,
   "id": "80d040cc-9546-4542-b4f6-7a4106750a44",
   "metadata": {},
   "outputs": [],
   "source": [
    "import pandas as pd\n",
    "df = pd.read_csv('http://bit.ly/kaggletrain')"
   ]
  },
  {
   "cell_type": "code",
   "execution_count": 2,
   "id": "b8357c5a-775a-4c9c-bdd0-c81f00c05bdc",
   "metadata": {},
   "outputs": [],
   "source": [
    "cols = ['Sex', 'Name', 'Age']\n",
    "X = df[cols]\n",
    "y = df['Survived']"
   ]
  },
  {
   "cell_type": "code",
   "execution_count": 3,
   "id": "a5177b9d-b570-4f02-935d-2b8f5135c55c",
   "metadata": {},
   "outputs": [],
   "source": [
    "from sklearn import set_config\n",
    "set_config(display='diagram')"
   ]
  },
  {
   "cell_type": "code",
   "execution_count": 4,
   "id": "be184614-9852-4184-bff7-ada9502bd593",
   "metadata": {},
   "outputs": [],
   "source": [
    "from sklearn.preprocessing import OneHotEncoder\n",
    "from sklearn.feature_extraction.text import CountVectorizer\n",
    "from sklearn.impute import SimpleImputer\n",
    "from sklearn.compose import ColumnTransformer\n",
    "from sklearn.linear_model import LogisticRegression\n",
    "from sklearn.pipeline import Pipeline\n",
    "from sklearn.model_selection import GridSearchCV"
   ]
  },
  {
   "cell_type": "code",
   "execution_count": 5,
   "id": "e33b5953-d260-414c-8b08-e0052b80ed14",
   "metadata": {},
   "outputs": [],
   "source": [
    "ct = ColumnTransformer(\n",
    "    [('ohe', OneHotEncoder(), ['Sex']),\n",
    "     ('vectorizer', CountVectorizer(), 'Name'),\n",
    "     ('imputer', SimpleImputer(), ['Age'])])"
   ]
  },
  {
   "cell_type": "code",
   "execution_count": 6,
   "id": "55829123-4b52-4954-b75a-7e6adee416b8",
   "metadata": {},
   "outputs": [],
   "source": [
    "clf = LogisticRegression(solver='liblinear', random_state=1)"
   ]
  },
  {
   "cell_type": "code",
   "execution_count": 7,
   "id": "fcee14b3-a878-4609-94fb-e5c9d1fb3d6f",
   "metadata": {},
   "outputs": [],
   "source": [
    "pipe = Pipeline([('preprocessor', ct), ('classifier', clf)])"
   ]
  },
  {
   "cell_type": "code",
   "execution_count": 8,
   "id": "17326f19-cdab-4258-bfdb-b6c66dd79cc7",
   "metadata": {},
   "outputs": [],
   "source": [
    "params = {}\n",
    "params['preprocessor__ohe__drop'] = [None, 'first']\n",
    "params['preprocessor__vectorizer__min_df'] = [1, 2, 3]\n",
    "params['preprocessor__vectorizer__ngram_range'] = [(1, 1), (1, 2)]\n",
    "params['classifier__C'] = [0.001, 0.01, 0.1, 1, 10, 100, 1000]\n",
    "params['classifier__penalty'] = ['l1', 'l2']"
   ]
  },
  {
   "cell_type": "code",
   "execution_count": 9,
   "id": "dc8c21f5-5fea-4c5e-8ba8-ebf5e05407f7",
   "metadata": {},
   "outputs": [
    {
     "name": "stdout",
     "output_type": "stream",
     "text": [
      "CPU times: total: 16.7 s\n",
      "Wall time: 16.7 s\n"
     ]
    },
    {
     "data": {
      "text/html": [
       "<style>#sk-f9c87253-7d19-4b7d-8196-62d84fba3f39 {color: black;background-color: white;}#sk-f9c87253-7d19-4b7d-8196-62d84fba3f39 pre{padding: 0;}#sk-f9c87253-7d19-4b7d-8196-62d84fba3f39 div.sk-toggleable {background-color: white;}#sk-f9c87253-7d19-4b7d-8196-62d84fba3f39 label.sk-toggleable__label {cursor: pointer;display: block;width: 100%;margin-bottom: 0;padding: 0.3em;box-sizing: border-box;text-align: center;}#sk-f9c87253-7d19-4b7d-8196-62d84fba3f39 label.sk-toggleable__label-arrow:before {content: \"▸\";float: left;margin-right: 0.25em;color: #696969;}#sk-f9c87253-7d19-4b7d-8196-62d84fba3f39 label.sk-toggleable__label-arrow:hover:before {color: black;}#sk-f9c87253-7d19-4b7d-8196-62d84fba3f39 div.sk-estimator:hover label.sk-toggleable__label-arrow:before {color: black;}#sk-f9c87253-7d19-4b7d-8196-62d84fba3f39 div.sk-toggleable__content {max-height: 0;max-width: 0;overflow: hidden;text-align: left;background-color: #f0f8ff;}#sk-f9c87253-7d19-4b7d-8196-62d84fba3f39 div.sk-toggleable__content pre {margin: 0.2em;color: black;border-radius: 0.25em;background-color: #f0f8ff;}#sk-f9c87253-7d19-4b7d-8196-62d84fba3f39 input.sk-toggleable__control:checked~div.sk-toggleable__content {max-height: 200px;max-width: 100%;overflow: auto;}#sk-f9c87253-7d19-4b7d-8196-62d84fba3f39 input.sk-toggleable__control:checked~label.sk-toggleable__label-arrow:before {content: \"▾\";}#sk-f9c87253-7d19-4b7d-8196-62d84fba3f39 div.sk-estimator input.sk-toggleable__control:checked~label.sk-toggleable__label {background-color: #d4ebff;}#sk-f9c87253-7d19-4b7d-8196-62d84fba3f39 div.sk-label input.sk-toggleable__control:checked~label.sk-toggleable__label {background-color: #d4ebff;}#sk-f9c87253-7d19-4b7d-8196-62d84fba3f39 input.sk-hidden--visually {border: 0;clip: rect(1px 1px 1px 1px);clip: rect(1px, 1px, 1px, 1px);height: 1px;margin: -1px;overflow: hidden;padding: 0;position: absolute;width: 1px;}#sk-f9c87253-7d19-4b7d-8196-62d84fba3f39 div.sk-estimator {font-family: monospace;background-color: #f0f8ff;border: 1px dotted black;border-radius: 0.25em;box-sizing: border-box;margin-bottom: 0.5em;}#sk-f9c87253-7d19-4b7d-8196-62d84fba3f39 div.sk-estimator:hover {background-color: #d4ebff;}#sk-f9c87253-7d19-4b7d-8196-62d84fba3f39 div.sk-parallel-item::after {content: \"\";width: 100%;border-bottom: 1px solid gray;flex-grow: 1;}#sk-f9c87253-7d19-4b7d-8196-62d84fba3f39 div.sk-label:hover label.sk-toggleable__label {background-color: #d4ebff;}#sk-f9c87253-7d19-4b7d-8196-62d84fba3f39 div.sk-serial::before {content: \"\";position: absolute;border-left: 1px solid gray;box-sizing: border-box;top: 2em;bottom: 0;left: 50%;}#sk-f9c87253-7d19-4b7d-8196-62d84fba3f39 div.sk-serial {display: flex;flex-direction: column;align-items: center;background-color: white;padding-right: 0.2em;padding-left: 0.2em;}#sk-f9c87253-7d19-4b7d-8196-62d84fba3f39 div.sk-item {z-index: 1;}#sk-f9c87253-7d19-4b7d-8196-62d84fba3f39 div.sk-parallel {display: flex;align-items: stretch;justify-content: center;background-color: white;}#sk-f9c87253-7d19-4b7d-8196-62d84fba3f39 div.sk-parallel::before {content: \"\";position: absolute;border-left: 1px solid gray;box-sizing: border-box;top: 2em;bottom: 0;left: 50%;}#sk-f9c87253-7d19-4b7d-8196-62d84fba3f39 div.sk-parallel-item {display: flex;flex-direction: column;position: relative;background-color: white;}#sk-f9c87253-7d19-4b7d-8196-62d84fba3f39 div.sk-parallel-item:first-child::after {align-self: flex-end;width: 50%;}#sk-f9c87253-7d19-4b7d-8196-62d84fba3f39 div.sk-parallel-item:last-child::after {align-self: flex-start;width: 50%;}#sk-f9c87253-7d19-4b7d-8196-62d84fba3f39 div.sk-parallel-item:only-child::after {width: 0;}#sk-f9c87253-7d19-4b7d-8196-62d84fba3f39 div.sk-dashed-wrapped {border: 1px dashed gray;margin: 0 0.4em 0.5em 0.4em;box-sizing: border-box;padding-bottom: 0.4em;background-color: white;position: relative;}#sk-f9c87253-7d19-4b7d-8196-62d84fba3f39 div.sk-label label {font-family: monospace;font-weight: bold;background-color: white;display: inline-block;line-height: 1.2em;}#sk-f9c87253-7d19-4b7d-8196-62d84fba3f39 div.sk-label-container {position: relative;z-index: 2;text-align: center;}#sk-f9c87253-7d19-4b7d-8196-62d84fba3f39 div.sk-container {/* jupyter's `normalize.less` sets `[hidden] { display: none; }` but bootstrap.min.css set `[hidden] { display: none !important; }` so we also need the `!important` here to be able to override the default hidden behavior on the sphinx rendered scikit-learn.org. See: https://github.com/scikit-learn/scikit-learn/issues/21755 */display: inline-block !important;position: relative;}#sk-f9c87253-7d19-4b7d-8196-62d84fba3f39 div.sk-text-repr-fallback {display: none;}</style><div id=\"sk-f9c87253-7d19-4b7d-8196-62d84fba3f39\" class=\"sk-top-container\"><div class=\"sk-text-repr-fallback\"><pre>GridSearchCV(estimator=Pipeline(steps=[(&#x27;preprocessor&#x27;,\n",
       "                                        ColumnTransformer(transformers=[(&#x27;ohe&#x27;,\n",
       "                                                                         OneHotEncoder(),\n",
       "                                                                         [&#x27;Sex&#x27;]),\n",
       "                                                                        (&#x27;vectorizer&#x27;,\n",
       "                                                                         CountVectorizer(),\n",
       "                                                                         &#x27;Name&#x27;),\n",
       "                                                                        (&#x27;imputer&#x27;,\n",
       "                                                                         SimpleImputer(),\n",
       "                                                                         [&#x27;Age&#x27;])])),\n",
       "                                       (&#x27;classifier&#x27;,\n",
       "                                        LogisticRegression(random_state=1,\n",
       "                                                           solver=&#x27;liblinear&#x27;))]),\n",
       "             param_grid={&#x27;classifier__C&#x27;: [0.001, 0.01, 0.1, 1, 10, 100, 1000],\n",
       "                         &#x27;classifier__penalty&#x27;: [&#x27;l1&#x27;, &#x27;l2&#x27;],\n",
       "                         &#x27;preprocessor__ohe__drop&#x27;: [None, &#x27;first&#x27;],\n",
       "                         &#x27;preprocessor__vectorizer__min_df&#x27;: [1, 2, 3],\n",
       "                         &#x27;preprocessor__vectorizer__ngram_range&#x27;: [(1, 1),\n",
       "                                                                   (1, 2)]})</pre><b>Please rerun this cell to show the HTML repr or trust the notebook.</b></div><div class=\"sk-container\" hidden><div class=\"sk-item sk-dashed-wrapped\"><div class=\"sk-label-container\"><div class=\"sk-label sk-toggleable\"><input class=\"sk-toggleable__control sk-hidden--visually\" id=\"a80e54a5-be4c-4711-8b86-d9945fb7bdce\" type=\"checkbox\" ><label for=\"a80e54a5-be4c-4711-8b86-d9945fb7bdce\" class=\"sk-toggleable__label sk-toggleable__label-arrow\">GridSearchCV</label><div class=\"sk-toggleable__content\"><pre>GridSearchCV(estimator=Pipeline(steps=[(&#x27;preprocessor&#x27;,\n",
       "                                        ColumnTransformer(transformers=[(&#x27;ohe&#x27;,\n",
       "                                                                         OneHotEncoder(),\n",
       "                                                                         [&#x27;Sex&#x27;]),\n",
       "                                                                        (&#x27;vectorizer&#x27;,\n",
       "                                                                         CountVectorizer(),\n",
       "                                                                         &#x27;Name&#x27;),\n",
       "                                                                        (&#x27;imputer&#x27;,\n",
       "                                                                         SimpleImputer(),\n",
       "                                                                         [&#x27;Age&#x27;])])),\n",
       "                                       (&#x27;classifier&#x27;,\n",
       "                                        LogisticRegression(random_state=1,\n",
       "                                                           solver=&#x27;liblinear&#x27;))]),\n",
       "             param_grid={&#x27;classifier__C&#x27;: [0.001, 0.01, 0.1, 1, 10, 100, 1000],\n",
       "                         &#x27;classifier__penalty&#x27;: [&#x27;l1&#x27;, &#x27;l2&#x27;],\n",
       "                         &#x27;preprocessor__ohe__drop&#x27;: [None, &#x27;first&#x27;],\n",
       "                         &#x27;preprocessor__vectorizer__min_df&#x27;: [1, 2, 3],\n",
       "                         &#x27;preprocessor__vectorizer__ngram_range&#x27;: [(1, 1),\n",
       "                                                                   (1, 2)]})</pre></div></div></div><div class=\"sk-parallel\"><div class=\"sk-parallel-item\"><div class=\"sk-item\"><div class=\"sk-serial\"><div class=\"sk-item\"><div class=\"sk-serial\"><div class=\"sk-item sk-dashed-wrapped\"><div class=\"sk-label-container\"><div class=\"sk-label sk-toggleable\"><input class=\"sk-toggleable__control sk-hidden--visually\" id=\"86bc1ec5-e13f-4ce0-bf7e-4acca39be3fa\" type=\"checkbox\" ><label for=\"86bc1ec5-e13f-4ce0-bf7e-4acca39be3fa\" class=\"sk-toggleable__label sk-toggleable__label-arrow\">preprocessor: ColumnTransformer</label><div class=\"sk-toggleable__content\"><pre>ColumnTransformer(transformers=[(&#x27;ohe&#x27;, OneHotEncoder(), [&#x27;Sex&#x27;]),\n",
       "                                (&#x27;vectorizer&#x27;, CountVectorizer(), &#x27;Name&#x27;),\n",
       "                                (&#x27;imputer&#x27;, SimpleImputer(), [&#x27;Age&#x27;])])</pre></div></div></div><div class=\"sk-parallel\"><div class=\"sk-parallel-item\"><div class=\"sk-item\"><div class=\"sk-label-container\"><div class=\"sk-label sk-toggleable\"><input class=\"sk-toggleable__control sk-hidden--visually\" id=\"818c1e34-5c8c-4fd3-b1c7-831d96b1c7c0\" type=\"checkbox\" ><label for=\"818c1e34-5c8c-4fd3-b1c7-831d96b1c7c0\" class=\"sk-toggleable__label sk-toggleable__label-arrow\">ohe</label><div class=\"sk-toggleable__content\"><pre>[&#x27;Sex&#x27;]</pre></div></div></div><div class=\"sk-serial\"><div class=\"sk-item\"><div class=\"sk-estimator sk-toggleable\"><input class=\"sk-toggleable__control sk-hidden--visually\" id=\"8637f1d8-67ff-4edf-9793-af22f227adfe\" type=\"checkbox\" ><label for=\"8637f1d8-67ff-4edf-9793-af22f227adfe\" class=\"sk-toggleable__label sk-toggleable__label-arrow\">OneHotEncoder</label><div class=\"sk-toggleable__content\"><pre>OneHotEncoder()</pre></div></div></div></div></div></div><div class=\"sk-parallel-item\"><div class=\"sk-item\"><div class=\"sk-label-container\"><div class=\"sk-label sk-toggleable\"><input class=\"sk-toggleable__control sk-hidden--visually\" id=\"c59b91d9-3a1d-44c2-be93-7f4cf2695fe4\" type=\"checkbox\" ><label for=\"c59b91d9-3a1d-44c2-be93-7f4cf2695fe4\" class=\"sk-toggleable__label sk-toggleable__label-arrow\">vectorizer</label><div class=\"sk-toggleable__content\"><pre>Name</pre></div></div></div><div class=\"sk-serial\"><div class=\"sk-item\"><div class=\"sk-estimator sk-toggleable\"><input class=\"sk-toggleable__control sk-hidden--visually\" id=\"91ecbc26-b63a-4b1a-97d7-b7e39377b3db\" type=\"checkbox\" ><label for=\"91ecbc26-b63a-4b1a-97d7-b7e39377b3db\" class=\"sk-toggleable__label sk-toggleable__label-arrow\">CountVectorizer</label><div class=\"sk-toggleable__content\"><pre>CountVectorizer()</pre></div></div></div></div></div></div><div class=\"sk-parallel-item\"><div class=\"sk-item\"><div class=\"sk-label-container\"><div class=\"sk-label sk-toggleable\"><input class=\"sk-toggleable__control sk-hidden--visually\" id=\"e653479c-da39-47d7-9cd1-a53d8c4f2d86\" type=\"checkbox\" ><label for=\"e653479c-da39-47d7-9cd1-a53d8c4f2d86\" class=\"sk-toggleable__label sk-toggleable__label-arrow\">imputer</label><div class=\"sk-toggleable__content\"><pre>[&#x27;Age&#x27;]</pre></div></div></div><div class=\"sk-serial\"><div class=\"sk-item\"><div class=\"sk-estimator sk-toggleable\"><input class=\"sk-toggleable__control sk-hidden--visually\" id=\"84152652-81ab-45b8-9cb6-96f79270d296\" type=\"checkbox\" ><label for=\"84152652-81ab-45b8-9cb6-96f79270d296\" class=\"sk-toggleable__label sk-toggleable__label-arrow\">SimpleImputer</label><div class=\"sk-toggleable__content\"><pre>SimpleImputer()</pre></div></div></div></div></div></div></div></div><div class=\"sk-item\"><div class=\"sk-estimator sk-toggleable\"><input class=\"sk-toggleable__control sk-hidden--visually\" id=\"d4907ab9-44a6-4e94-be64-6bc7e8f618c3\" type=\"checkbox\" ><label for=\"d4907ab9-44a6-4e94-be64-6bc7e8f618c3\" class=\"sk-toggleable__label sk-toggleable__label-arrow\">LogisticRegression</label><div class=\"sk-toggleable__content\"><pre>LogisticRegression(random_state=1, solver=&#x27;liblinear&#x27;)</pre></div></div></div></div></div></div></div></div></div></div></div></div>"
      ],
      "text/plain": [
       "GridSearchCV(estimator=Pipeline(steps=[('preprocessor',\n",
       "                                        ColumnTransformer(transformers=[('ohe',\n",
       "                                                                         OneHotEncoder(),\n",
       "                                                                         ['Sex']),\n",
       "                                                                        ('vectorizer',\n",
       "                                                                         CountVectorizer(),\n",
       "                                                                         'Name'),\n",
       "                                                                        ('imputer',\n",
       "                                                                         SimpleImputer(),\n",
       "                                                                         ['Age'])])),\n",
       "                                       ('classifier',\n",
       "                                        LogisticRegression(random_state=1,\n",
       "                                                           solver='liblinear'))]),\n",
       "             param_grid={'classifier__C': [0.001, 0.01, 0.1, 1, 10, 100, 1000],\n",
       "                         'classifier__penalty': ['l1', 'l2'],\n",
       "                         'preprocessor__ohe__drop': [None, 'first'],\n",
       "                         'preprocessor__vectorizer__min_df': [1, 2, 3],\n",
       "                         'preprocessor__vectorizer__ngram_range': [(1, 1),\n",
       "                                                                   (1, 2)]})"
      ]
     },
     "execution_count": 9,
     "metadata": {},
     "output_type": "execute_result"
    }
   ],
   "source": [
    "grid = GridSearchCV(pipe, params)\n",
    "%time grid.fit(X, y)"
   ]
  },
  {
   "cell_type": "code",
   "execution_count": 10,
   "id": "5846ab3c-e96d-4d8d-b5c3-95844da28384",
   "metadata": {},
   "outputs": [
    {
     "name": "stdout",
     "output_type": "stream",
     "text": [
      "CPU times: total: 1.44 s\n",
      "Wall time: 6.53 s\n"
     ]
    },
    {
     "data": {
      "text/html": [
       "<style>#sk-f705d48f-dfcd-4cc7-b369-db450f7f09cc {color: black;background-color: white;}#sk-f705d48f-dfcd-4cc7-b369-db450f7f09cc pre{padding: 0;}#sk-f705d48f-dfcd-4cc7-b369-db450f7f09cc div.sk-toggleable {background-color: white;}#sk-f705d48f-dfcd-4cc7-b369-db450f7f09cc label.sk-toggleable__label {cursor: pointer;display: block;width: 100%;margin-bottom: 0;padding: 0.3em;box-sizing: border-box;text-align: center;}#sk-f705d48f-dfcd-4cc7-b369-db450f7f09cc label.sk-toggleable__label-arrow:before {content: \"▸\";float: left;margin-right: 0.25em;color: #696969;}#sk-f705d48f-dfcd-4cc7-b369-db450f7f09cc label.sk-toggleable__label-arrow:hover:before {color: black;}#sk-f705d48f-dfcd-4cc7-b369-db450f7f09cc div.sk-estimator:hover label.sk-toggleable__label-arrow:before {color: black;}#sk-f705d48f-dfcd-4cc7-b369-db450f7f09cc div.sk-toggleable__content {max-height: 0;max-width: 0;overflow: hidden;text-align: left;background-color: #f0f8ff;}#sk-f705d48f-dfcd-4cc7-b369-db450f7f09cc div.sk-toggleable__content pre {margin: 0.2em;color: black;border-radius: 0.25em;background-color: #f0f8ff;}#sk-f705d48f-dfcd-4cc7-b369-db450f7f09cc input.sk-toggleable__control:checked~div.sk-toggleable__content {max-height: 200px;max-width: 100%;overflow: auto;}#sk-f705d48f-dfcd-4cc7-b369-db450f7f09cc input.sk-toggleable__control:checked~label.sk-toggleable__label-arrow:before {content: \"▾\";}#sk-f705d48f-dfcd-4cc7-b369-db450f7f09cc div.sk-estimator input.sk-toggleable__control:checked~label.sk-toggleable__label {background-color: #d4ebff;}#sk-f705d48f-dfcd-4cc7-b369-db450f7f09cc div.sk-label input.sk-toggleable__control:checked~label.sk-toggleable__label {background-color: #d4ebff;}#sk-f705d48f-dfcd-4cc7-b369-db450f7f09cc input.sk-hidden--visually {border: 0;clip: rect(1px 1px 1px 1px);clip: rect(1px, 1px, 1px, 1px);height: 1px;margin: -1px;overflow: hidden;padding: 0;position: absolute;width: 1px;}#sk-f705d48f-dfcd-4cc7-b369-db450f7f09cc div.sk-estimator {font-family: monospace;background-color: #f0f8ff;border: 1px dotted black;border-radius: 0.25em;box-sizing: border-box;margin-bottom: 0.5em;}#sk-f705d48f-dfcd-4cc7-b369-db450f7f09cc div.sk-estimator:hover {background-color: #d4ebff;}#sk-f705d48f-dfcd-4cc7-b369-db450f7f09cc div.sk-parallel-item::after {content: \"\";width: 100%;border-bottom: 1px solid gray;flex-grow: 1;}#sk-f705d48f-dfcd-4cc7-b369-db450f7f09cc div.sk-label:hover label.sk-toggleable__label {background-color: #d4ebff;}#sk-f705d48f-dfcd-4cc7-b369-db450f7f09cc div.sk-serial::before {content: \"\";position: absolute;border-left: 1px solid gray;box-sizing: border-box;top: 2em;bottom: 0;left: 50%;}#sk-f705d48f-dfcd-4cc7-b369-db450f7f09cc div.sk-serial {display: flex;flex-direction: column;align-items: center;background-color: white;padding-right: 0.2em;padding-left: 0.2em;}#sk-f705d48f-dfcd-4cc7-b369-db450f7f09cc div.sk-item {z-index: 1;}#sk-f705d48f-dfcd-4cc7-b369-db450f7f09cc div.sk-parallel {display: flex;align-items: stretch;justify-content: center;background-color: white;}#sk-f705d48f-dfcd-4cc7-b369-db450f7f09cc div.sk-parallel::before {content: \"\";position: absolute;border-left: 1px solid gray;box-sizing: border-box;top: 2em;bottom: 0;left: 50%;}#sk-f705d48f-dfcd-4cc7-b369-db450f7f09cc div.sk-parallel-item {display: flex;flex-direction: column;position: relative;background-color: white;}#sk-f705d48f-dfcd-4cc7-b369-db450f7f09cc div.sk-parallel-item:first-child::after {align-self: flex-end;width: 50%;}#sk-f705d48f-dfcd-4cc7-b369-db450f7f09cc div.sk-parallel-item:last-child::after {align-self: flex-start;width: 50%;}#sk-f705d48f-dfcd-4cc7-b369-db450f7f09cc div.sk-parallel-item:only-child::after {width: 0;}#sk-f705d48f-dfcd-4cc7-b369-db450f7f09cc div.sk-dashed-wrapped {border: 1px dashed gray;margin: 0 0.4em 0.5em 0.4em;box-sizing: border-box;padding-bottom: 0.4em;background-color: white;position: relative;}#sk-f705d48f-dfcd-4cc7-b369-db450f7f09cc div.sk-label label {font-family: monospace;font-weight: bold;background-color: white;display: inline-block;line-height: 1.2em;}#sk-f705d48f-dfcd-4cc7-b369-db450f7f09cc div.sk-label-container {position: relative;z-index: 2;text-align: center;}#sk-f705d48f-dfcd-4cc7-b369-db450f7f09cc div.sk-container {/* jupyter's `normalize.less` sets `[hidden] { display: none; }` but bootstrap.min.css set `[hidden] { display: none !important; }` so we also need the `!important` here to be able to override the default hidden behavior on the sphinx rendered scikit-learn.org. See: https://github.com/scikit-learn/scikit-learn/issues/21755 */display: inline-block !important;position: relative;}#sk-f705d48f-dfcd-4cc7-b369-db450f7f09cc div.sk-text-repr-fallback {display: none;}</style><div id=\"sk-f705d48f-dfcd-4cc7-b369-db450f7f09cc\" class=\"sk-top-container\"><div class=\"sk-text-repr-fallback\"><pre>GridSearchCV(estimator=Pipeline(steps=[(&#x27;preprocessor&#x27;,\n",
       "                                        ColumnTransformer(transformers=[(&#x27;ohe&#x27;,\n",
       "                                                                         OneHotEncoder(),\n",
       "                                                                         [&#x27;Sex&#x27;]),\n",
       "                                                                        (&#x27;vectorizer&#x27;,\n",
       "                                                                         CountVectorizer(),\n",
       "                                                                         &#x27;Name&#x27;),\n",
       "                                                                        (&#x27;imputer&#x27;,\n",
       "                                                                         SimpleImputer(),\n",
       "                                                                         [&#x27;Age&#x27;])])),\n",
       "                                       (&#x27;classifier&#x27;,\n",
       "                                        LogisticRegression(random_state=1,\n",
       "                                                           solver=&#x27;liblinear&#x27;))]),\n",
       "             n_jobs=-1,\n",
       "             param_grid={&#x27;classifier__C&#x27;: [0.001, 0.01, 0.1, 1, 10, 100, 1000],\n",
       "                         &#x27;classifier__penalty&#x27;: [&#x27;l1&#x27;, &#x27;l2&#x27;],\n",
       "                         &#x27;preprocessor__ohe__drop&#x27;: [None, &#x27;first&#x27;],\n",
       "                         &#x27;preprocessor__vectorizer__min_df&#x27;: [1, 2, 3],\n",
       "                         &#x27;preprocessor__vectorizer__ngram_range&#x27;: [(1, 1),\n",
       "                                                                   (1, 2)]})</pre><b>Please rerun this cell to show the HTML repr or trust the notebook.</b></div><div class=\"sk-container\" hidden><div class=\"sk-item sk-dashed-wrapped\"><div class=\"sk-label-container\"><div class=\"sk-label sk-toggleable\"><input class=\"sk-toggleable__control sk-hidden--visually\" id=\"7563801c-e337-4df3-8c46-8174ca92739f\" type=\"checkbox\" ><label for=\"7563801c-e337-4df3-8c46-8174ca92739f\" class=\"sk-toggleable__label sk-toggleable__label-arrow\">GridSearchCV</label><div class=\"sk-toggleable__content\"><pre>GridSearchCV(estimator=Pipeline(steps=[(&#x27;preprocessor&#x27;,\n",
       "                                        ColumnTransformer(transformers=[(&#x27;ohe&#x27;,\n",
       "                                                                         OneHotEncoder(),\n",
       "                                                                         [&#x27;Sex&#x27;]),\n",
       "                                                                        (&#x27;vectorizer&#x27;,\n",
       "                                                                         CountVectorizer(),\n",
       "                                                                         &#x27;Name&#x27;),\n",
       "                                                                        (&#x27;imputer&#x27;,\n",
       "                                                                         SimpleImputer(),\n",
       "                                                                         [&#x27;Age&#x27;])])),\n",
       "                                       (&#x27;classifier&#x27;,\n",
       "                                        LogisticRegression(random_state=1,\n",
       "                                                           solver=&#x27;liblinear&#x27;))]),\n",
       "             n_jobs=-1,\n",
       "             param_grid={&#x27;classifier__C&#x27;: [0.001, 0.01, 0.1, 1, 10, 100, 1000],\n",
       "                         &#x27;classifier__penalty&#x27;: [&#x27;l1&#x27;, &#x27;l2&#x27;],\n",
       "                         &#x27;preprocessor__ohe__drop&#x27;: [None, &#x27;first&#x27;],\n",
       "                         &#x27;preprocessor__vectorizer__min_df&#x27;: [1, 2, 3],\n",
       "                         &#x27;preprocessor__vectorizer__ngram_range&#x27;: [(1, 1),\n",
       "                                                                   (1, 2)]})</pre></div></div></div><div class=\"sk-parallel\"><div class=\"sk-parallel-item\"><div class=\"sk-item\"><div class=\"sk-serial\"><div class=\"sk-item\"><div class=\"sk-serial\"><div class=\"sk-item sk-dashed-wrapped\"><div class=\"sk-label-container\"><div class=\"sk-label sk-toggleable\"><input class=\"sk-toggleable__control sk-hidden--visually\" id=\"6c81b0ff-aff3-4b8e-b800-ccad1457ed18\" type=\"checkbox\" ><label for=\"6c81b0ff-aff3-4b8e-b800-ccad1457ed18\" class=\"sk-toggleable__label sk-toggleable__label-arrow\">preprocessor: ColumnTransformer</label><div class=\"sk-toggleable__content\"><pre>ColumnTransformer(transformers=[(&#x27;ohe&#x27;, OneHotEncoder(), [&#x27;Sex&#x27;]),\n",
       "                                (&#x27;vectorizer&#x27;, CountVectorizer(), &#x27;Name&#x27;),\n",
       "                                (&#x27;imputer&#x27;, SimpleImputer(), [&#x27;Age&#x27;])])</pre></div></div></div><div class=\"sk-parallel\"><div class=\"sk-parallel-item\"><div class=\"sk-item\"><div class=\"sk-label-container\"><div class=\"sk-label sk-toggleable\"><input class=\"sk-toggleable__control sk-hidden--visually\" id=\"da771423-1d26-4240-8059-bd0633768b7a\" type=\"checkbox\" ><label for=\"da771423-1d26-4240-8059-bd0633768b7a\" class=\"sk-toggleable__label sk-toggleable__label-arrow\">ohe</label><div class=\"sk-toggleable__content\"><pre>[&#x27;Sex&#x27;]</pre></div></div></div><div class=\"sk-serial\"><div class=\"sk-item\"><div class=\"sk-estimator sk-toggleable\"><input class=\"sk-toggleable__control sk-hidden--visually\" id=\"79d79a05-f0b8-4ea5-ad78-73c35874ca83\" type=\"checkbox\" ><label for=\"79d79a05-f0b8-4ea5-ad78-73c35874ca83\" class=\"sk-toggleable__label sk-toggleable__label-arrow\">OneHotEncoder</label><div class=\"sk-toggleable__content\"><pre>OneHotEncoder()</pre></div></div></div></div></div></div><div class=\"sk-parallel-item\"><div class=\"sk-item\"><div class=\"sk-label-container\"><div class=\"sk-label sk-toggleable\"><input class=\"sk-toggleable__control sk-hidden--visually\" id=\"ef2c27d6-79d7-415a-891d-0671d25ea0a4\" type=\"checkbox\" ><label for=\"ef2c27d6-79d7-415a-891d-0671d25ea0a4\" class=\"sk-toggleable__label sk-toggleable__label-arrow\">vectorizer</label><div class=\"sk-toggleable__content\"><pre>Name</pre></div></div></div><div class=\"sk-serial\"><div class=\"sk-item\"><div class=\"sk-estimator sk-toggleable\"><input class=\"sk-toggleable__control sk-hidden--visually\" id=\"3dbf970f-9164-4cb9-8d25-279932e53080\" type=\"checkbox\" ><label for=\"3dbf970f-9164-4cb9-8d25-279932e53080\" class=\"sk-toggleable__label sk-toggleable__label-arrow\">CountVectorizer</label><div class=\"sk-toggleable__content\"><pre>CountVectorizer()</pre></div></div></div></div></div></div><div class=\"sk-parallel-item\"><div class=\"sk-item\"><div class=\"sk-label-container\"><div class=\"sk-label sk-toggleable\"><input class=\"sk-toggleable__control sk-hidden--visually\" id=\"f01e627e-aaa0-438d-8d89-501c14d7ca57\" type=\"checkbox\" ><label for=\"f01e627e-aaa0-438d-8d89-501c14d7ca57\" class=\"sk-toggleable__label sk-toggleable__label-arrow\">imputer</label><div class=\"sk-toggleable__content\"><pre>[&#x27;Age&#x27;]</pre></div></div></div><div class=\"sk-serial\"><div class=\"sk-item\"><div class=\"sk-estimator sk-toggleable\"><input class=\"sk-toggleable__control sk-hidden--visually\" id=\"0a47f51f-e879-4cad-a050-1d2a4734d75c\" type=\"checkbox\" ><label for=\"0a47f51f-e879-4cad-a050-1d2a4734d75c\" class=\"sk-toggleable__label sk-toggleable__label-arrow\">SimpleImputer</label><div class=\"sk-toggleable__content\"><pre>SimpleImputer()</pre></div></div></div></div></div></div></div></div><div class=\"sk-item\"><div class=\"sk-estimator sk-toggleable\"><input class=\"sk-toggleable__control sk-hidden--visually\" id=\"ecaac733-7e1e-45c9-9d38-e1a461a1f4b5\" type=\"checkbox\" ><label for=\"ecaac733-7e1e-45c9-9d38-e1a461a1f4b5\" class=\"sk-toggleable__label sk-toggleable__label-arrow\">LogisticRegression</label><div class=\"sk-toggleable__content\"><pre>LogisticRegression(random_state=1, solver=&#x27;liblinear&#x27;)</pre></div></div></div></div></div></div></div></div></div></div></div></div>"
      ],
      "text/plain": [
       "GridSearchCV(estimator=Pipeline(steps=[('preprocessor',\n",
       "                                        ColumnTransformer(transformers=[('ohe',\n",
       "                                                                         OneHotEncoder(),\n",
       "                                                                         ['Sex']),\n",
       "                                                                        ('vectorizer',\n",
       "                                                                         CountVectorizer(),\n",
       "                                                                         'Name'),\n",
       "                                                                        ('imputer',\n",
       "                                                                         SimpleImputer(),\n",
       "                                                                         ['Age'])])),\n",
       "                                       ('classifier',\n",
       "                                        LogisticRegression(random_state=1,\n",
       "                                                           solver='liblinear'))]),\n",
       "             n_jobs=-1,\n",
       "             param_grid={'classifier__C': [0.001, 0.01, 0.1, 1, 10, 100, 1000],\n",
       "                         'classifier__penalty': ['l1', 'l2'],\n",
       "                         'preprocessor__ohe__drop': [None, 'first'],\n",
       "                         'preprocessor__vectorizer__min_df': [1, 2, 3],\n",
       "                         'preprocessor__vectorizer__ngram_range': [(1, 1),\n",
       "                                                                   (1, 2)]})"
      ]
     },
     "execution_count": 10,
     "metadata": {},
     "output_type": "execute_result"
    }
   ],
   "source": [
    "grid = GridSearchCV(pipe, params, n_jobs=-1)\n",
    "%time grid.fit(X, y)"
   ]
  }
 ],
 "metadata": {
  "kernelspec": {
   "display_name": "Python 3 (ipykernel)",
   "language": "python",
   "name": "python3"
  },
  "language_info": {
   "codemirror_mode": {
    "name": "ipython",
    "version": 3
   },
   "file_extension": ".py",
   "mimetype": "text/x-python",
   "name": "python",
   "nbconvert_exporter": "python",
   "pygments_lexer": "ipython3",
   "version": "3.10.2"
  }
 },
 "nbformat": 4,
 "nbformat_minor": 5
}
