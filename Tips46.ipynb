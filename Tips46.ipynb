{
 "cells": [
  {
   "cell_type": "code",
   "execution_count": 1,
   "id": "c00b6720-ae2d-4611-8029-ff5a012c7e5b",
   "metadata": {},
   "outputs": [],
   "source": [
    "import pandas as pd\n",
    "df = pd.read_csv('http://bit.ly/kaggletrain')"
   ]
  },
  {
   "cell_type": "code",
   "execution_count": 2,
   "id": "b75fbaf2-a83e-49bb-b50e-abd443449dc4",
   "metadata": {},
   "outputs": [],
   "source": [
    "cols = ['Pclass', 'Parch', 'SibSp', 'Fare']\n",
    "X = df[cols]\n",
    "y = df['Survived']"
   ]
  },
  {
   "cell_type": "code",
   "execution_count": 3,
   "id": "e4a03d31-c718-4f91-b9ec-727fbaed0346",
   "metadata": {},
   "outputs": [],
   "source": [
    "from sklearn.linear_model import LogisticRegression\n",
    "from sklearn.ensemble import RandomForestClassifier, VotingClassifier\n",
    "from sklearn.model_selection import cross_val_score"
   ]
  },
  {
   "cell_type": "code",
   "execution_count": 4,
   "id": "22475bf9-1f53-4ade-91b8-52bcb6984e42",
   "metadata": {},
   "outputs": [
    {
     "data": {
      "text/plain": [
       "0.6835791852363318"
      ]
     },
     "execution_count": 4,
     "metadata": {},
     "output_type": "execute_result"
    }
   ],
   "source": [
    "lr = LogisticRegression(solver='liblinear', random_state=1)\n",
    "cross_val_score(lr, X, y).mean()"
   ]
  },
  {
   "cell_type": "code",
   "execution_count": 5,
   "id": "54437ba2-aadd-4572-bc6c-9e8fd3aef139",
   "metadata": {},
   "outputs": [
    {
     "data": {
      "text/plain": [
       "0.6947774778733288"
      ]
     },
     "execution_count": 5,
     "metadata": {},
     "output_type": "execute_result"
    }
   ],
   "source": [
    "rf = RandomForestClassifier(max_features=None, random_state=1)\n",
    "cross_val_score(rf, X, y).mean()"
   ]
  },
  {
   "cell_type": "code",
   "execution_count": 6,
   "id": "a1e0c499-a852-4d20-93e3-9751b6017945",
   "metadata": {},
   "outputs": [
    {
     "data": {
      "text/plain": [
       "0.7251020023852865"
      ]
     },
     "execution_count": 6,
     "metadata": {},
     "output_type": "execute_result"
    }
   ],
   "source": [
    "# create an ensemble for improved accuracy\n",
    "vc = VotingClassifier([('clf1', lr), ('clf2', rf)], voting='soft')\n",
    "cross_val_score(vc, X, y).mean()"
   ]
  }
 ],
 "metadata": {
  "kernelspec": {
   "display_name": "Python 3 (ipykernel)",
   "language": "python",
   "name": "python3"
  },
  "language_info": {
   "codemirror_mode": {
    "name": "ipython",
    "version": 3
   },
   "file_extension": ".py",
   "mimetype": "text/x-python",
   "name": "python",
   "nbconvert_exporter": "python",
   "pygments_lexer": "ipython3",
   "version": "3.10.2"
  }
 },
 "nbformat": 4,
 "nbformat_minor": 5
}
