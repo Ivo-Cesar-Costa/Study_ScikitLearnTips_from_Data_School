{
 "cells": [
  {
   "cell_type": "code",
   "execution_count": 1,
   "id": "63fffec2-936a-4427-8610-6a1fbc3edea6",
   "metadata": {},
   "outputs": [],
   "source": [
    "import pandas as pd\n",
    "df = pd.read_csv('http://bit.ly/kaggletrain')"
   ]
  },
  {
   "cell_type": "code",
   "execution_count": 2,
   "id": "ac21d6f7-6b63-45ac-a2ee-8c6fa95db729",
   "metadata": {},
   "outputs": [],
   "source": [
    "# use single brackets around \"Name\" because CountVectorizer expects 1-D input\n",
    "X = df['Name']\n",
    "y = df['Survived']"
   ]
  },
  {
   "cell_type": "code",
   "execution_count": 3,
   "id": "5a02f4d8-23d0-46ad-83db-dc1bcfa874d0",
   "metadata": {},
   "outputs": [],
   "source": [
    "from sklearn.feature_extraction.text import CountVectorizer\n",
    "from sklearn.naive_bayes import MultinomialNB\n",
    "from sklearn.pipeline import make_pipeline"
   ]
  },
  {
   "cell_type": "code",
   "execution_count": 4,
   "id": "e4657dff-15c9-406d-925a-6ffd88cb2d26",
   "metadata": {},
   "outputs": [],
   "source": [
    "pipe = make_pipeline(CountVectorizer(), MultinomialNB())"
   ]
  },
  {
   "cell_type": "code",
   "execution_count": 5,
   "id": "fec93899-6691-4dd4-886b-b41ae0658c5a",
   "metadata": {},
   "outputs": [
    {
     "data": {
      "text/plain": [
       "0.8001820350260498"
      ]
     },
     "execution_count": 5,
     "metadata": {},
     "output_type": "execute_result"
    }
   ],
   "source": [
    "# cross-validate the pipeline using default parameters\n",
    "from sklearn.model_selection import cross_val_score\n",
    "cross_val_score(pipe, X, y, cv=5, scoring='accuracy').mean()"
   ]
  },
  {
   "cell_type": "code",
   "execution_count": 6,
   "id": "8a83adfb-de06-407f-aa03-91d870a61a48",
   "metadata": {},
   "outputs": [],
   "source": [
    "# specify parameter values to search (use a distribution for any continuous parameters)\n",
    "import scipy as sp\n",
    "params = {}\n",
    "params['countvectorizer__min_df'] = [1, 2, 3, 4]\n",
    "params['countvectorizer__lowercase'] = [True, False]\n",
    "params['multinomialnb__alpha'] = sp.stats.uniform(scale=1)"
   ]
  },
  {
   "cell_type": "code",
   "execution_count": 7,
   "id": "a1cd6fd6-5767-4631-a966-292546e3b95a",
   "metadata": {},
   "outputs": [],
   "source": [
    "# try \"n_iter\" random combinations of those parameter values\n",
    "from sklearn.model_selection import RandomizedSearchCV\n",
    "rand = RandomizedSearchCV(pipe, params, n_iter=10, cv=5, scoring='accuracy', random_state=1)\n",
    "rand.fit(X, y);"
   ]
  },
  {
   "cell_type": "code",
   "execution_count": 8,
   "id": "938637f7-e844-4cf2-8737-c89aa9fc358c",
   "metadata": {},
   "outputs": [
    {
     "data": {
      "text/plain": [
       "0.8080534806352395"
      ]
     },
     "execution_count": 8,
     "metadata": {},
     "output_type": "execute_result"
    }
   ],
   "source": [
    "# what was the best score found during the search?\n",
    "rand.best_score_"
   ]
  },
  {
   "cell_type": "code",
   "execution_count": 9,
   "id": "af6a561e-9262-4c13-81de-7682bffc170f",
   "metadata": {},
   "outputs": [
    {
     "data": {
      "text/plain": [
       "{'countvectorizer__lowercase': False,\n",
       " 'countvectorizer__min_df': 3,\n",
       " 'multinomialnb__alpha': 0.1981014890848788}"
      ]
     },
     "execution_count": 9,
     "metadata": {},
     "output_type": "execute_result"
    }
   ],
   "source": [
    "# which combination of parameters produced the best score?\n",
    "rand.best_params_"
   ]
  }
 ],
 "metadata": {
  "kernelspec": {
   "display_name": "Python 3 (ipykernel)",
   "language": "python",
   "name": "python3"
  },
  "language_info": {
   "codemirror_mode": {
    "name": "ipython",
    "version": 3
   },
   "file_extension": ".py",
   "mimetype": "text/x-python",
   "name": "python",
   "nbconvert_exporter": "python",
   "pygments_lexer": "ipython3",
   "version": "3.10.2"
  }
 },
 "nbformat": 4,
 "nbformat_minor": 5
}
