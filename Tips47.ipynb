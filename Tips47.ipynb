{
 "cells": [
  {
   "cell_type": "code",
   "execution_count": 1,
   "id": "ca9e9d3b-acc9-4508-b822-331f082efc4b",
   "metadata": {},
   "outputs": [],
   "source": [
    "import pandas as pd\n",
    "df = pd.read_csv('http://bit.ly/kaggletrain')"
   ]
  },
  {
   "cell_type": "code",
   "execution_count": 2,
   "id": "632f7774-beec-4d62-8e2a-8ab9da95df55",
   "metadata": {},
   "outputs": [],
   "source": [
    "cols = ['Pclass', 'Parch', 'SibSp', 'Fare']\n",
    "X = df[cols]\n",
    "y = df['Survived']"
   ]
  },
  {
   "cell_type": "code",
   "execution_count": 3,
   "id": "69692288-161a-4501-a51d-159641e37c6a",
   "metadata": {},
   "outputs": [],
   "source": [
    "from sklearn.linear_model import LogisticRegression\n",
    "from sklearn.ensemble import RandomForestClassifier, VotingClassifier\n",
    "from sklearn.naive_bayes import MultinomialNB\n",
    "from sklearn.model_selection import cross_val_score, GridSearchCV"
   ]
  },
  {
   "cell_type": "code",
   "execution_count": 4,
   "id": "c91f2e4f-2b2e-491b-a3b9-d2e631fc3c93",
   "metadata": {},
   "outputs": [],
   "source": [
    "lr = LogisticRegression(solver='liblinear', random_state=1)\n",
    "rf = RandomForestClassifier(max_features=None, random_state=1)\n",
    "nb = MultinomialNB()"
   ]
  },
  {
   "cell_type": "code",
   "execution_count": 5,
   "id": "402d17ef-a689-4e47-930f-72e1f1b6268b",
   "metadata": {},
   "outputs": [
    {
     "data": {
      "text/plain": [
       "0.6970560542338836"
      ]
     },
     "execution_count": 5,
     "metadata": {},
     "output_type": "execute_result"
    }
   ],
   "source": [
    "# create an ensemble of 3 classifiers\n",
    "vc = VotingClassifier([('clf1', lr), ('clf2', rf), ('clf3', nb)])\n",
    "cross_val_score(vc, X, y).mean()"
   ]
  },
  {
   "cell_type": "code",
   "execution_count": 6,
   "id": "abb0be40-5727-4ba9-930d-056a5ffb2d5e",
   "metadata": {},
   "outputs": [],
   "source": [
    "# define VotingClassifier parameters to search\n",
    "params = {'voting':['hard', 'soft'],\n",
    "          'weights':[(1,1,1), (2,1,1), (1,2,1), (1,1,2)]}"
   ]
  },
  {
   "cell_type": "code",
   "execution_count": 7,
   "id": "19be384e-c505-4930-882c-2a71a0fd5521",
   "metadata": {},
   "outputs": [
    {
     "data": {
      "text/plain": [
       "{'voting': 'soft', 'weights': (1, 2, 1)}"
      ]
     },
     "execution_count": 7,
     "metadata": {},
     "output_type": "execute_result"
    }
   ],
   "source": [
    "# find the best set of parameters\n",
    "grid = GridSearchCV(vc, params)\n",
    "grid.fit(X, y)\n",
    "grid.best_params_"
   ]
  },
  {
   "cell_type": "code",
   "execution_count": 8,
   "id": "226568ac-eeb1-4b17-acc1-573d999e2b4d",
   "metadata": {},
   "outputs": [
    {
     "data": {
      "text/plain": [
       "0.7262820915196786"
      ]
     },
     "execution_count": 8,
     "metadata": {},
     "output_type": "execute_result"
    }
   ],
   "source": [
    "# accuracy has improved\n",
    "grid.best_score_"
   ]
  }
 ],
 "metadata": {
  "kernelspec": {
   "display_name": "Python 3 (ipykernel)",
   "language": "python",
   "name": "python3"
  },
  "language_info": {
   "codemirror_mode": {
    "name": "ipython",
    "version": 3
   },
   "file_extension": ".py",
   "mimetype": "text/x-python",
   "name": "python",
   "nbconvert_exporter": "python",
   "pygments_lexer": "ipython3",
   "version": "3.10.2"
  }
 },
 "nbformat": 4,
 "nbformat_minor": 5
}
