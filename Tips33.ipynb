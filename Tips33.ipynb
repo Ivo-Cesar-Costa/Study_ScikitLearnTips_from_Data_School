{
 "cells": [
  {
   "cell_type": "code",
   "execution_count": 1,
   "id": "a75d2927-6d87-4f0d-b0ce-3ba0f68f0f17",
   "metadata": {},
   "outputs": [],
   "source": [
    "import pandas as pd\n",
    "import numpy as np\n",
    "from sklearn.compose import make_column_transformer"
   ]
  },
  {
   "cell_type": "code",
   "execution_count": 2,
   "id": "1402eb2f-f34c-43e6-8e83-94e2e5f12c3a",
   "metadata": {},
   "outputs": [],
   "source": [
    "X = pd.DataFrame({'Fare':[200, 300, 50, 900],\n",
    "                  'Code':['X12', 'Y20', 'Z7', np.nan],\n",
    "                  'Deck':['A101', 'C102', 'A200', 'C300']})"
   ]
  },
  {
   "cell_type": "code",
   "execution_count": 3,
   "id": "d8ac2726-e1b1-4a6c-8a0c-67fb3500cb4c",
   "metadata": {},
   "outputs": [],
   "source": [
    "from sklearn.preprocessing import FunctionTransformer"
   ]
  },
  {
   "cell_type": "code",
   "execution_count": 4,
   "id": "6db872a9-896f-4c03-b233-89a40c0f57a2",
   "metadata": {},
   "outputs": [],
   "source": [
    "clip_values = FunctionTransformer(np.clip, kw_args={'a_min':100, 'a_max':600})"
   ]
  },
  {
   "cell_type": "code",
   "execution_count": 5,
   "id": "207266f1-6c3f-48c8-94ed-c6b4f60f9d6a",
   "metadata": {},
   "outputs": [],
   "source": [
    "# extract the first letter from each string\n",
    "def first_letter(df):\n",
    "    return df.apply(lambda x: x.str.slice(0,1))"
   ]
  },
  {
   "cell_type": "code",
   "execution_count": 6,
   "id": "1303bb8e-1052-4466-bad6-3e50f425a7dc",
   "metadata": {},
   "outputs": [],
   "source": [
    "get_first_letter = FunctionTransformer(first_letter)"
   ]
  },
  {
   "cell_type": "code",
   "execution_count": 7,
   "id": "014c97b7-ea1b-45c9-a986-a402382d24e1",
   "metadata": {},
   "outputs": [],
   "source": [
    "ct = make_column_transformer(\n",
    "    (clip_values, ['Fare']),\n",
    "    (get_first_letter, ['Code', 'Deck']))"
   ]
  },
  {
   "cell_type": "code",
   "execution_count": 8,
   "id": "281d6c9d-c71a-4c69-8c32-57444963f4bc",
   "metadata": {},
   "outputs": [
    {
     "data": {
      "text/html": [
       "<div>\n",
       "<style scoped>\n",
       "    .dataframe tbody tr th:only-of-type {\n",
       "        vertical-align: middle;\n",
       "    }\n",
       "\n",
       "    .dataframe tbody tr th {\n",
       "        vertical-align: top;\n",
       "    }\n",
       "\n",
       "    .dataframe thead th {\n",
       "        text-align: right;\n",
       "    }\n",
       "</style>\n",
       "<table border=\"1\" class=\"dataframe\">\n",
       "  <thead>\n",
       "    <tr style=\"text-align: right;\">\n",
       "      <th></th>\n",
       "      <th>Fare</th>\n",
       "      <th>Code</th>\n",
       "      <th>Deck</th>\n",
       "    </tr>\n",
       "  </thead>\n",
       "  <tbody>\n",
       "    <tr>\n",
       "      <th>0</th>\n",
       "      <td>200</td>\n",
       "      <td>X12</td>\n",
       "      <td>A101</td>\n",
       "    </tr>\n",
       "    <tr>\n",
       "      <th>1</th>\n",
       "      <td>300</td>\n",
       "      <td>Y20</td>\n",
       "      <td>C102</td>\n",
       "    </tr>\n",
       "    <tr>\n",
       "      <th>2</th>\n",
       "      <td>50</td>\n",
       "      <td>Z7</td>\n",
       "      <td>A200</td>\n",
       "    </tr>\n",
       "    <tr>\n",
       "      <th>3</th>\n",
       "      <td>900</td>\n",
       "      <td>NaN</td>\n",
       "      <td>C300</td>\n",
       "    </tr>\n",
       "  </tbody>\n",
       "</table>\n",
       "</div>"
      ],
      "text/plain": [
       "   Fare Code  Deck\n",
       "0   200  X12  A101\n",
       "1   300  Y20  C102\n",
       "2    50   Z7  A200\n",
       "3   900  NaN  C300"
      ]
     },
     "execution_count": 8,
     "metadata": {},
     "output_type": "execute_result"
    }
   ],
   "source": [
    "X"
   ]
  },
  {
   "cell_type": "code",
   "execution_count": 9,
   "id": "f5b03e39-d4e8-4e7d-9ad6-6fea05fa288c",
   "metadata": {},
   "outputs": [
    {
     "data": {
      "text/plain": [
       "array([[200, 'X', 'A'],\n",
       "       [300, 'Y', 'C'],\n",
       "       [100, 'Z', 'A'],\n",
       "       [600, nan, 'C']], dtype=object)"
      ]
     },
     "execution_count": 9,
     "metadata": {},
     "output_type": "execute_result"
    }
   ],
   "source": [
    "ct.fit_transform(X)"
   ]
  }
 ],
 "metadata": {
  "kernelspec": {
   "display_name": "Python 3 (ipykernel)",
   "language": "python",
   "name": "python3"
  },
  "language_info": {
   "codemirror_mode": {
    "name": "ipython",
    "version": 3
   },
   "file_extension": ".py",
   "mimetype": "text/x-python",
   "name": "python",
   "nbconvert_exporter": "python",
   "pygments_lexer": "ipython3",
   "version": "3.10.2"
  }
 },
 "nbformat": 4,
 "nbformat_minor": 5
}
