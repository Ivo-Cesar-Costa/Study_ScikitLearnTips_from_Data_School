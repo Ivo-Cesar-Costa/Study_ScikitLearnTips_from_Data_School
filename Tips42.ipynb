{
 "cells": [
  {
   "cell_type": "code",
   "execution_count": 1,
   "id": "155ba1cd-7e81-4fe1-bddf-a6339ab8192a",
   "metadata": {},
   "outputs": [],
   "source": [
    "import pandas as pd\n",
    "import numpy as np\n",
    "from sklearn.impute import SimpleImputer\n",
    "from sklearn.compose import make_column_transformer"
   ]
  },
  {
   "cell_type": "code",
   "execution_count": 2,
   "id": "5de18361-6185-4eed-9cd6-04f130541760",
   "metadata": {},
   "outputs": [],
   "source": [
    "impute = SimpleImputer()"
   ]
  },
  {
   "cell_type": "code",
   "execution_count": 3,
   "id": "6fda8fbc-47b9-48c4-a9b9-e3434308439a",
   "metadata": {},
   "outputs": [
    {
     "data": {
      "text/html": [
       "<div>\n",
       "<style scoped>\n",
       "    .dataframe tbody tr th:only-of-type {\n",
       "        vertical-align: middle;\n",
       "    }\n",
       "\n",
       "    .dataframe tbody tr th {\n",
       "        vertical-align: top;\n",
       "    }\n",
       "\n",
       "    .dataframe thead th {\n",
       "        text-align: right;\n",
       "    }\n",
       "</style>\n",
       "<table border=\"1\" class=\"dataframe\">\n",
       "  <thead>\n",
       "    <tr style=\"text-align: right;\">\n",
       "      <th></th>\n",
       "      <th>A</th>\n",
       "      <th>B</th>\n",
       "      <th>C</th>\n",
       "      <th>D</th>\n",
       "      <th>E</th>\n",
       "    </tr>\n",
       "  </thead>\n",
       "  <tbody>\n",
       "    <tr>\n",
       "      <th>0</th>\n",
       "      <td>1.0</td>\n",
       "      <td>10</td>\n",
       "      <td>100</td>\n",
       "      <td>1000</td>\n",
       "      <td>10000</td>\n",
       "    </tr>\n",
       "    <tr>\n",
       "      <th>1</th>\n",
       "      <td>2.0</td>\n",
       "      <td>20</td>\n",
       "      <td>200</td>\n",
       "      <td>2000</td>\n",
       "      <td>20000</td>\n",
       "    </tr>\n",
       "    <tr>\n",
       "      <th>2</th>\n",
       "      <td>NaN</td>\n",
       "      <td>30</td>\n",
       "      <td>300</td>\n",
       "      <td>3000</td>\n",
       "      <td>30000</td>\n",
       "    </tr>\n",
       "  </tbody>\n",
       "</table>\n",
       "</div>"
      ],
      "text/plain": [
       "     A   B    C     D      E\n",
       "0  1.0  10  100  1000  10000\n",
       "1  2.0  20  200  2000  20000\n",
       "2  NaN  30  300  3000  30000"
      ]
     },
     "execution_count": 3,
     "metadata": {},
     "output_type": "execute_result"
    }
   ],
   "source": [
    "X = pd.DataFrame({'A':[1, 2, np.nan],\n",
    "                  'B':[10, 20, 30],\n",
    "                  'C':[100, 200, 300],\n",
    "                  'D':[1000, 2000, 3000],\n",
    "                  'E':[10000, 20000, 30000]})\n",
    "X"
   ]
  },
  {
   "cell_type": "code",
   "execution_count": 4,
   "id": "94127a36-70fc-4698-9d29-d8378e9282c4",
   "metadata": {},
   "outputs": [],
   "source": [
    "# impute A, passthrough B & C, then drop the remaining columns\n",
    "ct = make_column_transformer(\n",
    "    (impute, ['A']),\n",
    "    ('passthrough', ['B', 'C']),\n",
    "    remainder='drop')"
   ]
  },
  {
   "cell_type": "code",
   "execution_count": 5,
   "id": "e9601d6f-3180-4325-84d6-cc9cec0eecdc",
   "metadata": {},
   "outputs": [
    {
     "data": {
      "text/plain": [
       "array([[  1. ,  10. , 100. ],\n",
       "       [  2. ,  20. , 200. ],\n",
       "       [  1.5,  30. , 300. ]])"
      ]
     },
     "execution_count": 5,
     "metadata": {},
     "output_type": "execute_result"
    }
   ],
   "source": [
    "ct.fit_transform(X)"
   ]
  },
  {
   "cell_type": "code",
   "execution_count": 6,
   "id": "2b208cf1-b615-4272-bea6-cfa2a85004f0",
   "metadata": {},
   "outputs": [],
   "source": [
    "# impute A, drop D & E, then passthrough the remaining columns\n",
    "ct = make_column_transformer(\n",
    "    (impute, ['A']),\n",
    "    ('drop', ['D', 'E']),\n",
    "    remainder='passthrough')"
   ]
  },
  {
   "cell_type": "code",
   "execution_count": 7,
   "id": "382eedd8-c107-4fce-86f3-4aa0f6a95080",
   "metadata": {},
   "outputs": [
    {
     "data": {
      "text/plain": [
       "array([[  1. ,  10. , 100. ],\n",
       "       [  2. ,  20. , 200. ],\n",
       "       [  1.5,  30. , 300. ]])"
      ]
     },
     "execution_count": 7,
     "metadata": {},
     "output_type": "execute_result"
    }
   ],
   "source": [
    "ct.fit_transform(X)"
   ]
  }
 ],
 "metadata": {
  "kernelspec": {
   "display_name": "Python 3 (ipykernel)",
   "language": "python",
   "name": "python3"
  },
  "language_info": {
   "codemirror_mode": {
    "name": "ipython",
    "version": 3
   },
   "file_extension": ".py",
   "mimetype": "text/x-python",
   "name": "python",
   "nbconvert_exporter": "python",
   "pygments_lexer": "ipython3",
   "version": "3.10.2"
  }
 },
 "nbformat": 4,
 "nbformat_minor": 5
}
