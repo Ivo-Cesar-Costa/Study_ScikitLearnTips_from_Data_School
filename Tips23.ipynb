{
 "cells": [
  {
   "cell_type": "code",
   "execution_count": 1,
   "id": "9d60fab1-5f0a-4d9f-b3e3-a8796e81ef77",
   "metadata": {},
   "outputs": [],
   "source": [
    "from sklearn.datasets import load_diabetes\n",
    "dataset = load_diabetes()"
   ]
  },
  {
   "cell_type": "code",
   "execution_count": 2,
   "id": "f08a9323-0da2-4f09-8e94-ba170b2a5c8e",
   "metadata": {},
   "outputs": [],
   "source": [
    "X, y = dataset.data, dataset.target\n",
    "features = dataset.feature_names"
   ]
  },
  {
   "cell_type": "code",
   "execution_count": 3,
   "id": "d4dc15ad-bc1a-4bc6-aa63-c20638124099",
   "metadata": {},
   "outputs": [],
   "source": [
    "from sklearn.linear_model import LinearRegression\n",
    "model = LinearRegression()\n",
    "model.fit(X, y);"
   ]
  },
  {
   "cell_type": "code",
   "execution_count": 4,
   "id": "69f3a758-5d99-4891-9bb6-63119faae307",
   "metadata": {},
   "outputs": [
    {
     "data": {
      "text/plain": [
       "152.1334841628965"
      ]
     },
     "execution_count": 4,
     "metadata": {},
     "output_type": "execute_result"
    }
   ],
   "source": [
    "model.intercept_"
   ]
  },
  {
   "cell_type": "code",
   "execution_count": 5,
   "id": "d4cc6e23-9987-4ce0-812f-6db40a89db74",
   "metadata": {},
   "outputs": [
    {
     "data": {
      "text/plain": [
       "array([ -10.01219782, -239.81908937,  519.83978679,  324.39042769,\n",
       "       -792.18416163,  476.74583782,  101.04457032,  177.06417623,\n",
       "        751.27932109,   67.62538639])"
      ]
     },
     "execution_count": 5,
     "metadata": {},
     "output_type": "execute_result"
    }
   ],
   "source": [
    "model.coef_"
   ]
  },
  {
   "cell_type": "code",
   "execution_count": 6,
   "id": "611c09ef-6f75-42dc-a85a-c4df23520ebe",
   "metadata": {},
   "outputs": [
    {
     "data": {
      "text/plain": [
       "[('age', -10.012197817471241),\n",
       " ('sex', -239.81908936565543),\n",
       " ('bmi', 519.8397867901339),\n",
       " ('bp', 324.39042768937713),\n",
       " ('s1', -792.1841616283075),\n",
       " ('s2', 476.7458378236643),\n",
       " ('s3', 101.0445703213447),\n",
       " ('s4', 177.0641762322503),\n",
       " ('s5', 751.2793210873953),\n",
       " ('s6', 67.62538639104402)]"
      ]
     },
     "execution_count": 6,
     "metadata": {},
     "output_type": "execute_result"
    }
   ],
   "source": [
    "# display the feature names with the coefficients\n",
    "list(zip(features, model.coef_))"
   ]
  }
 ],
 "metadata": {
  "kernelspec": {
   "display_name": "Python 3 (ipykernel)",
   "language": "python",
   "name": "python3"
  },
  "language_info": {
   "codemirror_mode": {
    "name": "ipython",
    "version": 3
   },
   "file_extension": ".py",
   "mimetype": "text/x-python",
   "name": "python",
   "nbconvert_exporter": "python",
   "pygments_lexer": "ipython3",
   "version": "3.10.2"
  }
 },
 "nbformat": 4,
 "nbformat_minor": 5
}
