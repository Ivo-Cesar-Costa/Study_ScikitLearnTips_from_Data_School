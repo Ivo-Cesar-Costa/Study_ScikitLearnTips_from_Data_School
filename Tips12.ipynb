{
 "cells": [
  {
   "cell_type": "code",
   "execution_count": 1,
   "id": "3f55f8ed-33c4-4e24-9c13-8a002a720b81",
   "metadata": {},
   "outputs": [],
   "source": [
    "import pandas as pd\n",
    "df = pd.read_csv('http://bit.ly/kaggletrain', nrows=6)"
   ]
  },
  {
   "cell_type": "code",
   "execution_count": 2,
   "id": "d320df1c-5873-497e-94ff-81101b954de4",
   "metadata": {},
   "outputs": [
    {
     "data": {
      "text/html": [
       "<div>\n",
       "<style scoped>\n",
       "    .dataframe tbody tr th:only-of-type {\n",
       "        vertical-align: middle;\n",
       "    }\n",
       "\n",
       "    .dataframe tbody tr th {\n",
       "        vertical-align: top;\n",
       "    }\n",
       "\n",
       "    .dataframe thead th {\n",
       "        text-align: right;\n",
       "    }\n",
       "</style>\n",
       "<table border=\"1\" class=\"dataframe\">\n",
       "  <thead>\n",
       "    <tr style=\"text-align: right;\">\n",
       "      <th></th>\n",
       "      <th>Embarked</th>\n",
       "      <th>Sex</th>\n",
       "      <th>Age</th>\n",
       "      <th>Fare</th>\n",
       "    </tr>\n",
       "  </thead>\n",
       "  <tbody>\n",
       "    <tr>\n",
       "      <th>0</th>\n",
       "      <td>S</td>\n",
       "      <td>male</td>\n",
       "      <td>22.0</td>\n",
       "      <td>7.2500</td>\n",
       "    </tr>\n",
       "    <tr>\n",
       "      <th>1</th>\n",
       "      <td>C</td>\n",
       "      <td>female</td>\n",
       "      <td>38.0</td>\n",
       "      <td>71.2833</td>\n",
       "    </tr>\n",
       "  </tbody>\n",
       "</table>\n",
       "</div>"
      ],
      "text/plain": [
       "  Embarked     Sex   Age     Fare\n",
       "0        S    male  22.0   7.2500\n",
       "1        C  female  38.0  71.2833"
      ]
     },
     "execution_count": 2,
     "metadata": {},
     "output_type": "execute_result"
    }
   ],
   "source": [
    "cols = ['Embarked', 'Sex', 'Age', 'Fare']\n",
    "X = df[cols]\n",
    "X[:2]"
   ]
  },
  {
   "cell_type": "code",
   "execution_count": 3,
   "id": "cacf1cae-6ded-4c8b-aa56-25873b3c2621",
   "metadata": {},
   "outputs": [],
   "source": [
    "from sklearn.preprocessing import OneHotEncoder\n",
    "from sklearn.impute import SimpleImputer\n",
    "from sklearn.linear_model import LogisticRegression"
   ]
  },
  {
   "cell_type": "code",
   "execution_count": 4,
   "id": "eb0e11c2-d957-4a2a-ae80-dd8cf1383d6d",
   "metadata": {},
   "outputs": [],
   "source": [
    "ohe = OneHotEncoder()\n",
    "imp = SimpleImputer()\n",
    "clf = LogisticRegression()"
   ]
  },
  {
   "cell_type": "code",
   "execution_count": 5,
   "id": "73a53e24-3458-4219-8edc-b5d2d070ed04",
   "metadata": {},
   "outputs": [],
   "source": [
    "from sklearn.compose import make_column_transformer\n",
    "from sklearn.pipeline import make_pipeline"
   ]
  },
  {
   "cell_type": "code",
   "execution_count": 6,
   "id": "9725ceb0-22bd-448a-b7dd-686714b11897",
   "metadata": {},
   "outputs": [],
   "source": [
    "ct = make_column_transformer(\n",
    "    (ohe, ['Embarked', 'Sex']),\n",
    "    (imp, ['Age']),\n",
    "    remainder='passthrough')"
   ]
  },
  {
   "cell_type": "code",
   "execution_count": 7,
   "id": "cdee8a0b-7577-4470-bbbb-7671a10f113b",
   "metadata": {},
   "outputs": [],
   "source": [
    "pipe = make_pipeline(ct, clf)"
   ]
  },
  {
   "cell_type": "code",
   "execution_count": 8,
   "id": "16e70990-effa-4cb3-8490-1bdee2345d9d",
   "metadata": {},
   "outputs": [],
   "source": [
    "from sklearn.compose import ColumnTransformer\n",
    "from sklearn.pipeline import Pipeline"
   ]
  },
  {
   "cell_type": "code",
   "execution_count": 9,
   "id": "e9eaa8ab-e705-4a25-b0f3-494750db18da",
   "metadata": {},
   "outputs": [],
   "source": [
    "ct = ColumnTransformer(\n",
    "    [('encoder', ohe, ['Embarked', 'Sex']),\n",
    "     ('imputer', imp, ['Age'])],\n",
    "    remainder='passthrough')"
   ]
  },
  {
   "cell_type": "code",
   "execution_count": 10,
   "id": "91d68cdc-a3d4-427e-a9a9-97a36dd7bbe6",
   "metadata": {},
   "outputs": [],
   "source": [
    "pipe = Pipeline([('preprocessor', ct), ('classifier', clf)])"
   ]
  },
  {
   "cell_type": "code",
   "execution_count": 11,
   "id": "b329b5ea-686a-472b-85dd-50ff4cd0d58c",
   "metadata": {},
   "outputs": [
    {
     "data": {
      "text/plain": [
       "Pipeline(steps=[('preprocessor',\n",
       "                 ColumnTransformer(remainder='passthrough',\n",
       "                                   transformers=[('encoder', OneHotEncoder(),\n",
       "                                                  ['Embarked', 'Sex']),\n",
       "                                                 ('imputer', SimpleImputer(),\n",
       "                                                  ['Age'])])),\n",
       "                ('classifier', LogisticRegression())])"
      ]
     },
     "execution_count": 11,
     "metadata": {},
     "output_type": "execute_result"
    }
   ],
   "source": [
    "pipe"
   ]
  }
 ],
 "metadata": {
  "kernelspec": {
   "display_name": "Python 3 (ipykernel)",
   "language": "python",
   "name": "python3"
  },
  "language_info": {
   "codemirror_mode": {
    "name": "ipython",
    "version": 3
   },
   "file_extension": ".py",
   "mimetype": "text/x-python",
   "name": "python",
   "nbconvert_exporter": "python",
   "pygments_lexer": "ipython3",
   "version": "3.10.2"
  }
 },
 "nbformat": 4,
 "nbformat_minor": 5
}
