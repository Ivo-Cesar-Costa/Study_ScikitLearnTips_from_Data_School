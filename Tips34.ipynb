{
 "cells": [
  {
   "cell_type": "code",
   "execution_count": 1,
   "id": "71002c73-ee54-4a44-9589-999f5a54d774",
   "metadata": {},
   "outputs": [],
   "source": [
    "import pandas as pd\n",
    "df = pd.read_csv('http://bit.ly/kaggletrain')"
   ]
  },
  {
   "cell_type": "code",
   "execution_count": 2,
   "id": "c3e72af5-6a8b-452a-8c4c-4c5d2783b9c6",
   "metadata": {},
   "outputs": [],
   "source": [
    "X = df['Name']\n",
    "y = df['Survived']"
   ]
  },
  {
   "cell_type": "code",
   "execution_count": 3,
   "id": "bb89ccee-0735-4a1e-aebf-8ea9c44140c9",
   "metadata": {},
   "outputs": [],
   "source": [
    "from sklearn.feature_extraction.text import CountVectorizer\n",
    "from sklearn.linear_model import LogisticRegression\n",
    "from sklearn.pipeline import make_pipeline\n",
    "from sklearn.model_selection import cross_val_score"
   ]
  },
  {
   "cell_type": "code",
   "execution_count": 4,
   "id": "9530f615-96cb-43c4-b4a1-8a2ce5b10e51",
   "metadata": {},
   "outputs": [],
   "source": [
    "vect = CountVectorizer()\n",
    "clf = LogisticRegression()"
   ]
  },
  {
   "cell_type": "code",
   "execution_count": 5,
   "id": "e11a10cc-8d0f-477e-9601-93e2cfbca342",
   "metadata": {},
   "outputs": [],
   "source": [
    "pipe = make_pipeline(vect, clf)"
   ]
  },
  {
   "cell_type": "code",
   "execution_count": 6,
   "id": "dfc27f54-487b-429f-a590-9d5f7b2211c9",
   "metadata": {},
   "outputs": [
    {
     "data": {
      "text/plain": [
       "0.7957190383528967"
      ]
     },
     "execution_count": 6,
     "metadata": {},
     "output_type": "execute_result"
    }
   ],
   "source": [
    "cross_val_score(pipe, X, y, scoring='accuracy').mean()"
   ]
  },
  {
   "cell_type": "code",
   "execution_count": 7,
   "id": "2777c0f5-8ca1-4def-a9af-f44a53afe367",
   "metadata": {},
   "outputs": [],
   "source": [
    "from sklearn.feature_selection import SelectPercentile, chi2"
   ]
  },
  {
   "cell_type": "code",
   "execution_count": 8,
   "id": "323f0c5d-1971-4857-ab52-17d8ab75caee",
   "metadata": {},
   "outputs": [],
   "source": [
    "# keep 50% of features with the best chi-squared scores\n",
    "selection = SelectPercentile(chi2, percentile=50)"
   ]
  },
  {
   "cell_type": "code",
   "execution_count": 9,
   "id": "c62a0aab-125b-4746-a654-f9fb78cb2543",
   "metadata": {},
   "outputs": [],
   "source": [
    "pipe = make_pipeline(vect, selection, clf)"
   ]
  },
  {
   "cell_type": "code",
   "execution_count": 10,
   "id": "d4645e16-f973-4c26-8906-679be094e56d",
   "metadata": {},
   "outputs": [
    {
     "data": {
      "text/plain": [
       "0.8147824995292197"
      ]
     },
     "execution_count": 10,
     "metadata": {},
     "output_type": "execute_result"
    }
   ],
   "source": [
    "cross_val_score(pipe, X, y, scoring='accuracy').mean()"
   ]
  }
 ],
 "metadata": {
  "kernelspec": {
   "display_name": "Python 3 (ipykernel)",
   "language": "python",
   "name": "python3"
  },
  "language_info": {
   "codemirror_mode": {
    "name": "ipython",
    "version": 3
   },
   "file_extension": ".py",
   "mimetype": "text/x-python",
   "name": "python",
   "nbconvert_exporter": "python",
   "pygments_lexer": "ipython3",
   "version": "3.10.2"
  }
 },
 "nbformat": 4,
 "nbformat_minor": 5
}
