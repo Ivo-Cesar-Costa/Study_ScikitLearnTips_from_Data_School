{
 "cells": [
  {
   "cell_type": "code",
   "execution_count": 1,
   "id": "3021a2e4-70eb-4a38-9b84-92e095f2eef1",
   "metadata": {},
   "outputs": [],
   "source": [
    "import pandas as pd\n",
    "df = pd.DataFrame({'feature':list(range(8)), 'target':['not fraud']*6 + ['fraud']*2})"
   ]
  },
  {
   "cell_type": "code",
   "execution_count": 2,
   "id": "d119fc9f-99bd-44b7-8f17-27521c92a3ab",
   "metadata": {},
   "outputs": [],
   "source": [
    "X = df[['feature']]\n",
    "y = df['target']"
   ]
  },
  {
   "cell_type": "code",
   "execution_count": 3,
   "id": "eca3d430-628b-40f1-82d5-b060d41b43e1",
   "metadata": {},
   "outputs": [],
   "source": [
    "from sklearn.model_selection import train_test_split"
   ]
  },
  {
   "cell_type": "code",
   "execution_count": 4,
   "id": "6a23ebbe-9e3b-4c9b-af7e-648a2d904827",
   "metadata": {},
   "outputs": [],
   "source": [
    "X_train, X_test, y_train, y_test = train_test_split(X, y, test_size=0.5, random_state=0)"
   ]
  },
  {
   "cell_type": "code",
   "execution_count": 5,
   "id": "1fa67653-bfcb-42fe-b76f-5a5070672d61",
   "metadata": {},
   "outputs": [
    {
     "data": {
      "text/plain": [
       "3    not fraud\n",
       "0    not fraud\n",
       "5    not fraud\n",
       "4    not fraud\n",
       "Name: target, dtype: object"
      ]
     },
     "execution_count": 5,
     "metadata": {},
     "output_type": "execute_result"
    }
   ],
   "source": [
    "y_train"
   ]
  },
  {
   "cell_type": "code",
   "execution_count": 6,
   "id": "ba9ee342-616f-4853-973b-27e86c75de9b",
   "metadata": {},
   "outputs": [
    {
     "data": {
      "text/plain": [
       "6        fraud\n",
       "2    not fraud\n",
       "1    not fraud\n",
       "7        fraud\n",
       "Name: target, dtype: object"
      ]
     },
     "execution_count": 6,
     "metadata": {},
     "output_type": "execute_result"
    }
   ],
   "source": [
    "y_test"
   ]
  },
  {
   "cell_type": "code",
   "execution_count": 7,
   "id": "f5008843-928f-4731-b3b8-62a437949cea",
   "metadata": {},
   "outputs": [],
   "source": [
    "X_train, X_test, y_train, y_test = train_test_split(X, y, test_size=0.5, random_state=0, stratify=y)"
   ]
  },
  {
   "cell_type": "code",
   "execution_count": 8,
   "id": "1ac5e8f9-3f24-41f7-9edc-39481278e9fe",
   "metadata": {},
   "outputs": [
    {
     "data": {
      "text/plain": [
       "1    not fraud\n",
       "7        fraud\n",
       "2    not fraud\n",
       "4    not fraud\n",
       "Name: target, dtype: object"
      ]
     },
     "execution_count": 8,
     "metadata": {},
     "output_type": "execute_result"
    }
   ],
   "source": [
    "y_train"
   ]
  },
  {
   "cell_type": "code",
   "execution_count": 9,
   "id": "8cc43071-10ad-41bf-86ba-4cbb3bb8f448",
   "metadata": {},
   "outputs": [
    {
     "data": {
      "text/plain": [
       "3    not fraud\n",
       "6        fraud\n",
       "0    not fraud\n",
       "5    not fraud\n",
       "Name: target, dtype: object"
      ]
     },
     "execution_count": 9,
     "metadata": {},
     "output_type": "execute_result"
    }
   ],
   "source": [
    "y_test"
   ]
  }
 ],
 "metadata": {
  "kernelspec": {
   "display_name": "Python 3 (ipykernel)",
   "language": "python",
   "name": "python3"
  },
  "language_info": {
   "codemirror_mode": {
    "name": "ipython",
    "version": 3
   },
   "file_extension": ".py",
   "mimetype": "text/x-python",
   "name": "python",
   "nbconvert_exporter": "python",
   "pygments_lexer": "ipython3",
   "version": "3.10.2"
  }
 },
 "nbformat": 4,
 "nbformat_minor": 5
}
